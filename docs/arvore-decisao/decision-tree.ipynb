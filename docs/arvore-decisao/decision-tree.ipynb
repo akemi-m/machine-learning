{
 "cells": [
  {
   "cell_type": "code",
   "execution_count": 76,
   "id": "963845e5",
   "metadata": {},
   "outputs": [],
   "source": [
    "import matplotlib.pyplot as plt\n",
    "import pandas as pd\n",
    "\n",
    "from io import StringIO\n",
    "from sklearn import tree\n",
    "from sklearn.model_selection import train_test_split\n",
    "from sklearn.preprocessing import LabelEncoder\n",
    "from sklearn.metrics import accuracy_score\n",
    "from sklearn.model_selection import cross_val_score"
   ]
  },
  {
   "cell_type": "code",
   "execution_count": 77,
   "id": "984b9267",
   "metadata": {},
   "outputs": [],
   "source": [
    "df = pd.read_csv('credit_score_classification.csv', low_memory=False)"
   ]
  },
  {
   "cell_type": "code",
   "execution_count": 78,
   "id": "65c0a4e2",
   "metadata": {},
   "outputs": [
    {
     "name": "stdout",
     "output_type": "stream",
     "text": [
      "<class 'pandas.core.frame.DataFrame'>\n",
      "RangeIndex: 100000 entries, 0 to 99999\n",
      "Data columns (total 28 columns):\n",
      " #   Column                    Non-Null Count   Dtype  \n",
      "---  ------                    --------------   -----  \n",
      " 0   ID                        100000 non-null  object \n",
      " 1   Customer_ID               100000 non-null  object \n",
      " 2   Month                     100000 non-null  object \n",
      " 3   Name                      90015 non-null   object \n",
      " 4   Age                       100000 non-null  object \n",
      " 5   SSN                       100000 non-null  object \n",
      " 6   Occupation                100000 non-null  object \n",
      " 7   Annual_Income             100000 non-null  object \n",
      " 8   Monthly_Inhand_Salary     84998 non-null   float64\n",
      " 9   Num_Bank_Accounts         100000 non-null  int64  \n",
      " 10  Num_Credit_Card           100000 non-null  int64  \n",
      " 11  Interest_Rate             100000 non-null  int64  \n",
      " 12  Num_of_Loan               100000 non-null  object \n",
      " 13  Type_of_Loan              88592 non-null   object \n",
      " 14  Delay_from_due_date       100000 non-null  int64  \n",
      " 15  Num_of_Delayed_Payment    92998 non-null   object \n",
      " 16  Changed_Credit_Limit      100000 non-null  object \n",
      " 17  Num_Credit_Inquiries      98035 non-null   float64\n",
      " 18  Credit_Mix                100000 non-null  object \n",
      " 19  Outstanding_Debt          100000 non-null  object \n",
      " 20  Credit_Utilization_Ratio  100000 non-null  float64\n",
      " 21  Credit_History_Age        90970 non-null   object \n",
      " 22  Payment_of_Min_Amount     100000 non-null  object \n",
      " 23  Total_EMI_per_month       100000 non-null  float64\n",
      " 24  Amount_invested_monthly   95521 non-null   object \n",
      " 25  Payment_Behaviour         100000 non-null  object \n",
      " 26  Monthly_Balance           98800 non-null   object \n",
      " 27  Credit_Score              100000 non-null  object \n",
      "dtypes: float64(4), int64(4), object(20)\n",
      "memory usage: 21.4+ MB\n"
     ]
    }
   ],
   "source": [
    "df.info()"
   ]
  },
  {
   "cell_type": "code",
   "execution_count": 79,
   "id": "06853bde",
   "metadata": {},
   "outputs": [
    {
     "name": "stdout",
     "output_type": "stream",
     "text": [
      "<class 'pandas.core.frame.DataFrame'>\n",
      "RangeIndex: 100000 entries, 0 to 99999\n",
      "Data columns (total 8 columns):\n",
      " #   Column                    Non-Null Count   Dtype  \n",
      "---  ------                    --------------   -----  \n",
      " 0   Outstanding_Debt          100000 non-null  object \n",
      " 1   Credit_Utilization_Ratio  100000 non-null  float64\n",
      " 2   Credit_History_Age        90970 non-null   object \n",
      " 3   Payment_of_Min_Amount     100000 non-null  object \n",
      " 4   Total_EMI_per_month       100000 non-null  float64\n",
      " 5   Amount_invested_monthly   95521 non-null   object \n",
      " 6   Payment_Behaviour         100000 non-null  object \n",
      " 7   Monthly_Balance           98800 non-null   object \n",
      "dtypes: float64(2), object(6)\n",
      "memory usage: 6.1+ MB\n"
     ]
    }
   ],
   "source": [
    "df.loc[:, 'Outstanding_Debt':'Monthly_Balance'].info()"
   ]
  },
  {
   "cell_type": "code",
   "execution_count": 80,
   "id": "418fa457",
   "metadata": {},
   "outputs": [
    {
     "data": {
      "text/html": [
       "<div>\n",
       "<style scoped>\n",
       "    .dataframe tbody tr th:only-of-type {\n",
       "        vertical-align: middle;\n",
       "    }\n",
       "\n",
       "    .dataframe tbody tr th {\n",
       "        vertical-align: top;\n",
       "    }\n",
       "\n",
       "    .dataframe thead th {\n",
       "        text-align: right;\n",
       "    }\n",
       "</style>\n",
       "<table border=\"1\" class=\"dataframe\">\n",
       "  <thead>\n",
       "    <tr style=\"text-align: right;\">\n",
       "      <th></th>\n",
       "      <th>Monthly_Inhand_Salary</th>\n",
       "      <th>Num_Bank_Accounts</th>\n",
       "      <th>Num_Credit_Card</th>\n",
       "      <th>Interest_Rate</th>\n",
       "      <th>Delay_from_due_date</th>\n",
       "      <th>Num_Credit_Inquiries</th>\n",
       "      <th>Credit_Utilization_Ratio</th>\n",
       "      <th>Total_EMI_per_month</th>\n",
       "    </tr>\n",
       "  </thead>\n",
       "  <tbody>\n",
       "    <tr>\n",
       "      <th>count</th>\n",
       "      <td>84998.000000</td>\n",
       "      <td>100000.000000</td>\n",
       "      <td>100000.00000</td>\n",
       "      <td>100000.000000</td>\n",
       "      <td>100000.000000</td>\n",
       "      <td>98035.000000</td>\n",
       "      <td>100000.000000</td>\n",
       "      <td>100000.000000</td>\n",
       "    </tr>\n",
       "    <tr>\n",
       "      <th>mean</th>\n",
       "      <td>4194.170850</td>\n",
       "      <td>17.091280</td>\n",
       "      <td>22.47443</td>\n",
       "      <td>72.466040</td>\n",
       "      <td>21.068780</td>\n",
       "      <td>27.754251</td>\n",
       "      <td>32.285173</td>\n",
       "      <td>1403.118217</td>\n",
       "    </tr>\n",
       "    <tr>\n",
       "      <th>std</th>\n",
       "      <td>3183.686167</td>\n",
       "      <td>117.404834</td>\n",
       "      <td>129.05741</td>\n",
       "      <td>466.422621</td>\n",
       "      <td>14.860104</td>\n",
       "      <td>193.177339</td>\n",
       "      <td>5.116875</td>\n",
       "      <td>8306.041270</td>\n",
       "    </tr>\n",
       "    <tr>\n",
       "      <th>min</th>\n",
       "      <td>303.645417</td>\n",
       "      <td>-1.000000</td>\n",
       "      <td>0.00000</td>\n",
       "      <td>1.000000</td>\n",
       "      <td>-5.000000</td>\n",
       "      <td>0.000000</td>\n",
       "      <td>20.000000</td>\n",
       "      <td>0.000000</td>\n",
       "    </tr>\n",
       "    <tr>\n",
       "      <th>25%</th>\n",
       "      <td>1625.568229</td>\n",
       "      <td>3.000000</td>\n",
       "      <td>4.00000</td>\n",
       "      <td>8.000000</td>\n",
       "      <td>10.000000</td>\n",
       "      <td>3.000000</td>\n",
       "      <td>28.052567</td>\n",
       "      <td>30.306660</td>\n",
       "    </tr>\n",
       "    <tr>\n",
       "      <th>50%</th>\n",
       "      <td>3093.745000</td>\n",
       "      <td>6.000000</td>\n",
       "      <td>5.00000</td>\n",
       "      <td>13.000000</td>\n",
       "      <td>18.000000</td>\n",
       "      <td>6.000000</td>\n",
       "      <td>32.305784</td>\n",
       "      <td>69.249473</td>\n",
       "    </tr>\n",
       "    <tr>\n",
       "      <th>75%</th>\n",
       "      <td>5957.448333</td>\n",
       "      <td>7.000000</td>\n",
       "      <td>7.00000</td>\n",
       "      <td>20.000000</td>\n",
       "      <td>28.000000</td>\n",
       "      <td>9.000000</td>\n",
       "      <td>36.496663</td>\n",
       "      <td>161.224249</td>\n",
       "    </tr>\n",
       "    <tr>\n",
       "      <th>max</th>\n",
       "      <td>15204.633333</td>\n",
       "      <td>1798.000000</td>\n",
       "      <td>1499.00000</td>\n",
       "      <td>5797.000000</td>\n",
       "      <td>67.000000</td>\n",
       "      <td>2597.000000</td>\n",
       "      <td>50.000000</td>\n",
       "      <td>82331.000000</td>\n",
       "    </tr>\n",
       "  </tbody>\n",
       "</table>\n",
       "</div>"
      ],
      "text/plain": [
       "       Monthly_Inhand_Salary  Num_Bank_Accounts  Num_Credit_Card  \\\n",
       "count           84998.000000      100000.000000     100000.00000   \n",
       "mean             4194.170850          17.091280         22.47443   \n",
       "std              3183.686167         117.404834        129.05741   \n",
       "min               303.645417          -1.000000          0.00000   \n",
       "25%              1625.568229           3.000000          4.00000   \n",
       "50%              3093.745000           6.000000          5.00000   \n",
       "75%              5957.448333           7.000000          7.00000   \n",
       "max             15204.633333        1798.000000       1499.00000   \n",
       "\n",
       "       Interest_Rate  Delay_from_due_date  Num_Credit_Inquiries  \\\n",
       "count  100000.000000        100000.000000          98035.000000   \n",
       "mean       72.466040            21.068780             27.754251   \n",
       "std       466.422621            14.860104            193.177339   \n",
       "min         1.000000            -5.000000              0.000000   \n",
       "25%         8.000000            10.000000              3.000000   \n",
       "50%        13.000000            18.000000              6.000000   \n",
       "75%        20.000000            28.000000              9.000000   \n",
       "max      5797.000000            67.000000           2597.000000   \n",
       "\n",
       "       Credit_Utilization_Ratio  Total_EMI_per_month  \n",
       "count             100000.000000        100000.000000  \n",
       "mean                  32.285173          1403.118217  \n",
       "std                    5.116875          8306.041270  \n",
       "min                   20.000000             0.000000  \n",
       "25%                   28.052567            30.306660  \n",
       "50%                   32.305784            69.249473  \n",
       "75%                   36.496663           161.224249  \n",
       "max                   50.000000         82331.000000  "
      ]
     },
     "execution_count": 80,
     "metadata": {},
     "output_type": "execute_result"
    }
   ],
   "source": [
    "df.describe()"
   ]
  },
  {
   "cell_type": "markdown",
   "id": "e4b3f87d",
   "metadata": {},
   "source": [
    "# Ajuste de data types"
   ]
  },
  {
   "cell_type": "code",
   "execution_count": 81,
   "id": "44ea9811",
   "metadata": {},
   "outputs": [],
   "source": [
    "\n",
    "df['ID'] = df['ID'].astype('string')\n",
    "df['Customer_ID'] = df['Customer_ID'].astype('string')\n",
    "df['Month'] = df['Month'].astype('string')\n",
    "df['Name'] = df['Name'].astype('string')\n",
    "df['SSN'] = df['SSN'].astype('string')\n",
    "df['Occupation'] = df['Occupation'].astype('string')\n",
    "df['Type_of_Loan'] = df['Type_of_Loan'].astype('string')\n",
    "df['Payment_Behaviour'] = df['Payment_Behaviour'].astype('string')\n",
    "df['Payment_of_Min_Amount'] = df['Payment_of_Min_Amount'].astype('string')\n",
    "\n",
    "df['Age'] = df['Age'].str.replace('_', '').astype('int')\n",
    "df['Annual_Income'] = df['Annual_Income'].str.replace('_', '').astype('float')\n",
    "df['Num_of_Loan'] = df['Num_of_Loan'].str.replace('_', '').astype('int')\n",
    "df['Outstanding_Debt'] = df['Outstanding_Debt'].str.replace('_', '').astype('float')\n",
    "df['Amount_invested_monthly'] = df['Amount_invested_monthly'].str.replace('_', '').astype('float')\n",
    "df['Monthly_Balance'] = df['Monthly_Balance'].str.replace('_', '').astype('float')\n",
    "df['Num_of_Delayed_Payment'] = df['Num_of_Delayed_Payment'].str.replace('_', '').astype('float').fillna(0).astype('int')\n",
    "df['Changed_Credit_Limit'] = df['Changed_Credit_Limit'].str.replace('_', '0').astype('float').fillna(0)\n",
    "df['Credit_Mix'] = df['Credit_Mix'].str.replace('_', 'Não informado').astype('string')\n",
    "df['Credit_History_Age'] = df['Credit_History_Age'].fillna('Não informado').astype('string')\n",
    "\n",
    "df['Credit_Score'] = df['Credit_Score'].astype('category')"
   ]
  },
  {
   "cell_type": "code",
   "execution_count": 82,
   "id": "c1efa761",
   "metadata": {},
   "outputs": [
    {
     "name": "stdout",
     "output_type": "stream",
     "text": [
      "<class 'pandas.core.frame.DataFrame'>\n",
      "RangeIndex: 100000 entries, 0 to 99999\n",
      "Data columns (total 28 columns):\n",
      " #   Column                    Non-Null Count   Dtype   \n",
      "---  ------                    --------------   -----   \n",
      " 0   ID                        100000 non-null  string  \n",
      " 1   Customer_ID               100000 non-null  string  \n",
      " 2   Month                     100000 non-null  string  \n",
      " 3   Name                      90015 non-null   string  \n",
      " 4   Age                       100000 non-null  int64   \n",
      " 5   SSN                       100000 non-null  string  \n",
      " 6   Occupation                100000 non-null  string  \n",
      " 7   Annual_Income             100000 non-null  float64 \n",
      " 8   Monthly_Inhand_Salary     84998 non-null   float64 \n",
      " 9   Num_Bank_Accounts         100000 non-null  int64   \n",
      " 10  Num_Credit_Card           100000 non-null  int64   \n",
      " 11  Interest_Rate             100000 non-null  int64   \n",
      " 12  Num_of_Loan               100000 non-null  int64   \n",
      " 13  Type_of_Loan              88592 non-null   string  \n",
      " 14  Delay_from_due_date       100000 non-null  int64   \n",
      " 15  Num_of_Delayed_Payment    100000 non-null  int64   \n",
      " 16  Changed_Credit_Limit      100000 non-null  float64 \n",
      " 17  Num_Credit_Inquiries      98035 non-null   float64 \n",
      " 18  Credit_Mix                100000 non-null  string  \n",
      " 19  Outstanding_Debt          100000 non-null  float64 \n",
      " 20  Credit_Utilization_Ratio  100000 non-null  float64 \n",
      " 21  Credit_History_Age        100000 non-null  string  \n",
      " 22  Payment_of_Min_Amount     100000 non-null  string  \n",
      " 23  Total_EMI_per_month       100000 non-null  float64 \n",
      " 24  Amount_invested_monthly   95521 non-null   float64 \n",
      " 25  Payment_Behaviour         100000 non-null  string  \n",
      " 26  Monthly_Balance           98800 non-null   float64 \n",
      " 27  Credit_Score              100000 non-null  category\n",
      "dtypes: category(1), float64(9), int64(7), string(11)\n",
      "memory usage: 20.7 MB\n"
     ]
    }
   ],
   "source": [
    "df.info()"
   ]
  },
  {
   "cell_type": "code",
   "execution_count": 83,
   "id": "595c0a53",
   "metadata": {},
   "outputs": [
    {
     "name": "stdout",
     "output_type": "stream",
     "text": [
      "<class 'pandas.core.frame.DataFrame'>\n",
      "RangeIndex: 100000 entries, 0 to 99999\n",
      "Data columns (total 8 columns):\n",
      " #   Column                    Non-Null Count   Dtype  \n",
      "---  ------                    --------------   -----  \n",
      " 0   Outstanding_Debt          100000 non-null  float64\n",
      " 1   Credit_Utilization_Ratio  100000 non-null  float64\n",
      " 2   Credit_History_Age        100000 non-null  string \n",
      " 3   Payment_of_Min_Amount     100000 non-null  string \n",
      " 4   Total_EMI_per_month       100000 non-null  float64\n",
      " 5   Amount_invested_monthly   95521 non-null   float64\n",
      " 6   Payment_Behaviour         100000 non-null  string \n",
      " 7   Monthly_Balance           98800 non-null   float64\n",
      "dtypes: float64(5), string(3)\n",
      "memory usage: 6.1 MB\n"
     ]
    }
   ],
   "source": [
    "df.loc[:, 'Outstanding_Debt':'Monthly_Balance'].info()"
   ]
  },
  {
   "cell_type": "markdown",
   "id": "336dac07",
   "metadata": {},
   "source": [
    "# Remover colunas que não entram em modelos"
   ]
  },
  {
   "cell_type": "code",
   "execution_count": 84,
   "id": "82072cfe",
   "metadata": {},
   "outputs": [],
   "source": [
    "df = df.drop(['ID', 'Customer_ID', 'Month', 'Name', 'SSN', 'Type_of_Loan'], axis=1)"
   ]
  },
  {
   "cell_type": "code",
   "execution_count": 85,
   "id": "ca15cc04",
   "metadata": {},
   "outputs": [
    {
     "name": "stdout",
     "output_type": "stream",
     "text": [
      "<class 'pandas.core.frame.DataFrame'>\n",
      "RangeIndex: 100000 entries, 0 to 99999\n",
      "Data columns (total 22 columns):\n",
      " #   Column                    Non-Null Count   Dtype   \n",
      "---  ------                    --------------   -----   \n",
      " 0   Age                       100000 non-null  int64   \n",
      " 1   Occupation                100000 non-null  string  \n",
      " 2   Annual_Income             100000 non-null  float64 \n",
      " 3   Monthly_Inhand_Salary     84998 non-null   float64 \n",
      " 4   Num_Bank_Accounts         100000 non-null  int64   \n",
      " 5   Num_Credit_Card           100000 non-null  int64   \n",
      " 6   Interest_Rate             100000 non-null  int64   \n",
      " 7   Num_of_Loan               100000 non-null  int64   \n",
      " 8   Delay_from_due_date       100000 non-null  int64   \n",
      " 9   Num_of_Delayed_Payment    100000 non-null  int64   \n",
      " 10  Changed_Credit_Limit      100000 non-null  float64 \n",
      " 11  Num_Credit_Inquiries      98035 non-null   float64 \n",
      " 12  Credit_Mix                100000 non-null  string  \n",
      " 13  Outstanding_Debt          100000 non-null  float64 \n",
      " 14  Credit_Utilization_Ratio  100000 non-null  float64 \n",
      " 15  Credit_History_Age        100000 non-null  string  \n",
      " 16  Payment_of_Min_Amount     100000 non-null  string  \n",
      " 17  Total_EMI_per_month       100000 non-null  float64 \n",
      " 18  Amount_invested_monthly   95521 non-null   float64 \n",
      " 19  Payment_Behaviour         100000 non-null  string  \n",
      " 20  Monthly_Balance           98800 non-null   float64 \n",
      " 21  Credit_Score              100000 non-null  category\n",
      "dtypes: category(1), float64(9), int64(7), string(5)\n",
      "memory usage: 16.1 MB\n"
     ]
    }
   ],
   "source": [
    "df.info()"
   ]
  },
  {
   "cell_type": "markdown",
   "id": "ee078416",
   "metadata": {},
   "source": [
    "# Limpeza de colunas categóricas"
   ]
  },
  {
   "cell_type": "code",
   "execution_count": 86,
   "id": "e9c78427",
   "metadata": {},
   "outputs": [
    {
     "data": {
      "text/plain": [
       "0        Scientist\n",
       "1        Scientist\n",
       "2        Scientist\n",
       "3        Scientist\n",
       "4        Scientist\n",
       "           ...    \n",
       "99995     Mechanic\n",
       "99996     Mechanic\n",
       "99997     Mechanic\n",
       "99998     Mechanic\n",
       "99999     Mechanic\n",
       "Name: Occupation, Length: 100000, dtype: string"
      ]
     },
     "execution_count": 86,
     "metadata": {},
     "output_type": "execute_result"
    }
   ],
   "source": [
    "df['Occupation']"
   ]
  },
  {
   "cell_type": "code",
   "execution_count": 87,
   "id": "9e1f772a",
   "metadata": {},
   "outputs": [],
   "source": [
    "indices_para_remover = df[df[\"Occupation\"].str.contains(\"_\", na=False)].index\n",
    "df.drop(index=indices_para_remover, inplace=True)"
   ]
  },
  {
   "cell_type": "code",
   "execution_count": 88,
   "id": "ca8f4e57",
   "metadata": {},
   "outputs": [
    {
     "data": {
      "text/plain": [
       "<StringArray>\n",
       "[   'Scientist',      'Teacher',     'Engineer', 'Entrepreneur',\n",
       "    'Developer',       'Lawyer',       'Doctor',   'Journalist',\n",
       "      'Manager',   'Accountant',     'Musician',     'Mechanic',\n",
       "       'Writer',    'Architect']\n",
       "Length: 14, dtype: string"
      ]
     },
     "execution_count": 88,
     "metadata": {},
     "output_type": "execute_result"
    }
   ],
   "source": [
    "df['Occupation'].unique()"
   ]
  },
  {
   "cell_type": "code",
   "execution_count": 89,
   "id": "7675bf3f",
   "metadata": {},
   "outputs": [],
   "source": [
    "indices_para_remover = df[df[\"Credit_Mix\"].str.contains(\"Não informado\", na=False)].index\n",
    "df.drop(index=indices_para_remover, inplace=True)"
   ]
  },
  {
   "cell_type": "code",
   "execution_count": 90,
   "id": "2962b106",
   "metadata": {},
   "outputs": [
    {
     "data": {
      "text/plain": [
       "<StringArray>\n",
       "['Good', 'Standard', 'Bad']\n",
       "Length: 3, dtype: string"
      ]
     },
     "execution_count": 90,
     "metadata": {},
     "output_type": "execute_result"
    }
   ],
   "source": [
    "df['Credit_Mix'].unique()"
   ]
  },
  {
   "cell_type": "code",
   "execution_count": 91,
   "id": "8307d51e",
   "metadata": {},
   "outputs": [],
   "source": [
    "indices_para_remover = df[df[\"Payment_of_Min_Amount\"].str.contains(\"NM\", na=False)].index\n",
    "df.drop(index=indices_para_remover, inplace=True)"
   ]
  },
  {
   "cell_type": "code",
   "execution_count": 92,
   "id": "a1880891",
   "metadata": {},
   "outputs": [
    {
     "data": {
      "text/plain": [
       "<StringArray>\n",
       "['No', 'Yes']\n",
       "Length: 2, dtype: string"
      ]
     },
     "execution_count": 92,
     "metadata": {},
     "output_type": "execute_result"
    }
   ],
   "source": [
    "df['Payment_of_Min_Amount'].unique()"
   ]
  },
  {
   "cell_type": "code",
   "execution_count": 93,
   "id": "5b64a194",
   "metadata": {},
   "outputs": [],
   "source": [
    "indices_para_remover = df[df[\"Payment_Behaviour\"].str.contains(\"!@9#%8\", na=False)].index\n",
    "df.drop(index=indices_para_remover, inplace=True)"
   ]
  },
  {
   "cell_type": "code",
   "execution_count": 94,
   "id": "ec263ec4",
   "metadata": {},
   "outputs": [
    {
     "data": {
      "text/plain": [
       "<StringArray>\n",
       "[  'Low_spent_Large_value_payments',  'Low_spent_Medium_value_payments',\n",
       "   'Low_spent_Small_value_payments', 'High_spent_Medium_value_payments',\n",
       "  'High_spent_Large_value_payments',  'High_spent_Small_value_payments']\n",
       "Length: 6, dtype: string"
      ]
     },
     "execution_count": 94,
     "metadata": {},
     "output_type": "execute_result"
    }
   ],
   "source": [
    "df['Payment_Behaviour'].unique()"
   ]
  },
  {
   "cell_type": "code",
   "execution_count": 95,
   "id": "6434f424",
   "metadata": {},
   "outputs": [],
   "source": [
    "indices_para_remover = df[df[\"Credit_History_Age\"].str.contains(\"Não informado\", na=False)].index\n",
    "df.drop(index=indices_para_remover, inplace=True)\n",
    "df['Credit_History_Age'] = df['Credit_History_Age'].dropna()"
   ]
  },
  {
   "cell_type": "code",
   "execution_count": 96,
   "id": "3af471e9",
   "metadata": {},
   "outputs": [
    {
     "data": {
      "text/plain": [
       "2        22 Years and 3 Months\n",
       "3        22 Years and 4 Months\n",
       "4        22 Years and 5 Months\n",
       "6        22 Years and 7 Months\n",
       "9        26 Years and 8 Months\n",
       "                 ...          \n",
       "99986    5 Years and 10 Months\n",
       "99991     6 Years and 3 Months\n",
       "99993    31 Years and 4 Months\n",
       "99997    31 Years and 8 Months\n",
       "99998    31 Years and 9 Months\n",
       "Name: Credit_History_Age, Length: 51171, dtype: string"
      ]
     },
     "execution_count": 96,
     "metadata": {},
     "output_type": "execute_result"
    }
   ],
   "source": [
    "df['Credit_History_Age']"
   ]
  },
  {
   "cell_type": "markdown",
   "id": "754e7699",
   "metadata": {},
   "source": [
    "# Transformar string em category"
   ]
  },
  {
   "cell_type": "code",
   "execution_count": 97,
   "id": "e33f7fdd",
   "metadata": {},
   "outputs": [],
   "source": [
    "df['Occupation'] = df['Occupation'].astype('category')\n",
    "df['Credit_Mix'] = df['Credit_Mix'].astype('category')\n",
    "df['Payment_of_Min_Amount'] = df['Payment_of_Min_Amount'].astype('category')\n",
    "df['Payment_Behaviour'] = df['Payment_Behaviour'].astype('category')"
   ]
  },
  {
   "cell_type": "code",
   "execution_count": 98,
   "id": "00295731",
   "metadata": {},
   "outputs": [
    {
     "name": "stdout",
     "output_type": "stream",
     "text": [
      "<class 'pandas.core.frame.DataFrame'>\n",
      "Index: 51171 entries, 2 to 99998\n",
      "Data columns (total 22 columns):\n",
      " #   Column                    Non-Null Count  Dtype   \n",
      "---  ------                    --------------  -----   \n",
      " 0   Age                       51171 non-null  int64   \n",
      " 1   Occupation                51171 non-null  category\n",
      " 2   Annual_Income             51171 non-null  float64 \n",
      " 3   Monthly_Inhand_Salary     43537 non-null  float64 \n",
      " 4   Num_Bank_Accounts         51171 non-null  int64   \n",
      " 5   Num_Credit_Card           51171 non-null  int64   \n",
      " 6   Interest_Rate             51171 non-null  int64   \n",
      " 7   Num_of_Loan               51171 non-null  int64   \n",
      " 8   Delay_from_due_date       51171 non-null  int64   \n",
      " 9   Num_of_Delayed_Payment    51171 non-null  int64   \n",
      " 10  Changed_Credit_Limit      51171 non-null  float64 \n",
      " 11  Num_Credit_Inquiries      50157 non-null  float64 \n",
      " 12  Credit_Mix                51171 non-null  category\n",
      " 13  Outstanding_Debt          51171 non-null  float64 \n",
      " 14  Credit_Utilization_Ratio  51171 non-null  float64 \n",
      " 15  Credit_History_Age        51171 non-null  string  \n",
      " 16  Payment_of_Min_Amount     51171 non-null  category\n",
      " 17  Total_EMI_per_month       51171 non-null  float64 \n",
      " 18  Amount_invested_monthly   48861 non-null  float64 \n",
      " 19  Payment_Behaviour         51171 non-null  category\n",
      " 20  Monthly_Balance           50560 non-null  float64 \n",
      " 21  Credit_Score              51171 non-null  category\n",
      "dtypes: category(5), float64(9), int64(7), string(1)\n",
      "memory usage: 7.3 MB\n"
     ]
    }
   ],
   "source": [
    "df.info()"
   ]
  },
  {
   "cell_type": "code",
   "execution_count": 99,
   "id": "732068ac",
   "metadata": {},
   "outputs": [
    {
     "name": "stdout",
     "output_type": "stream",
     "text": [
      "<class 'pandas.core.frame.DataFrame'>\n",
      "Index: 51171 entries, 2 to 99998\n",
      "Data columns (total 22 columns):\n",
      " #   Column                    Non-Null Count  Dtype   \n",
      "---  ------                    --------------  -----   \n",
      " 0   Age                       51171 non-null  int64   \n",
      " 1   Occupation                51171 non-null  category\n",
      " 2   Annual_Income             51171 non-null  float64 \n",
      " 3   Monthly_Inhand_Salary     43537 non-null  float64 \n",
      " 4   Num_Bank_Accounts         51171 non-null  int64   \n",
      " 5   Num_Credit_Card           51171 non-null  int64   \n",
      " 6   Interest_Rate             51171 non-null  int64   \n",
      " 7   Num_of_Loan               51171 non-null  int64   \n",
      " 8   Delay_from_due_date       51171 non-null  int64   \n",
      " 9   Num_of_Delayed_Payment    51171 non-null  int64   \n",
      " 10  Changed_Credit_Limit      51171 non-null  float64 \n",
      " 11  Num_Credit_Inquiries      50157 non-null  float64 \n",
      " 12  Credit_Mix                51171 non-null  category\n",
      " 13  Outstanding_Debt          51171 non-null  float64 \n",
      " 14  Credit_Utilization_Ratio  51171 non-null  float64 \n",
      " 15  Credit_History_Age        51171 non-null  string  \n",
      " 16  Payment_of_Min_Amount     51171 non-null  category\n",
      " 17  Total_EMI_per_month       51171 non-null  float64 \n",
      " 18  Amount_invested_monthly   48861 non-null  float64 \n",
      " 19  Payment_Behaviour         51171 non-null  category\n",
      " 20  Monthly_Balance           50560 non-null  float64 \n",
      " 21  Credit_Score              51171 non-null  category\n",
      "dtypes: category(5), float64(9), int64(7), string(1)\n",
      "memory usage: 7.3 MB\n"
     ]
    }
   ],
   "source": [
    "df.info()"
   ]
  },
  {
   "cell_type": "markdown",
   "id": "0e025b11",
   "metadata": {},
   "source": [
    "# Tratamento de `Credit_History_Age`"
   ]
  },
  {
   "cell_type": "code",
   "execution_count": 100,
   "id": "96681fe5",
   "metadata": {},
   "outputs": [],
   "source": [
    "import re\n",
    "\n",
    "def converter_para_meses(s):\n",
    "  # Usar regex para extrair os números de anos e meses\n",
    "  match = re.search(r'(\\d+)\\s*Years?\\s*(\\d+)\\s*Months?', s)\n",
    "  if match:\n",
    "    anos = int(match.group(1))\n",
    "    meses = int(match.group(2))\n",
    "    return anos * 12 + meses\n",
    "  else:\n",
    "    return None  # ou 0, dependendo do seu caso\n",
    "\n",
    "# Aplicar no DataFrame\n",
    "df['Credit_History_Age'] = df['Credit_History_Age'].apply(converter_para_meses)"
   ]
  }
 ],
 "metadata": {
  "kernelspec": {
   "display_name": "env",
   "language": "python",
   "name": "python3"
  },
  "language_info": {
   "codemirror_mode": {
    "name": "ipython",
    "version": 3
   },
   "file_extension": ".py",
   "mimetype": "text/x-python",
   "name": "python",
   "nbconvert_exporter": "python",
   "pygments_lexer": "ipython3",
   "version": "3.12.5"
  }
 },
 "nbformat": 4,
 "nbformat_minor": 5
}
