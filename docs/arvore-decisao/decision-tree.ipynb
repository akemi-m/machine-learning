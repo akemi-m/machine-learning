{
 "cells": [
  {
   "cell_type": "code",
   "execution_count": 2433,
   "id": "963845e5",
   "metadata": {},
   "outputs": [],
   "source": [
    "import matplotlib.pyplot as plt\n",
    "import pandas as pd\n",
    "\n",
    "from io import StringIO\n",
    "from sklearn import tree\n",
    "from sklearn.model_selection import train_test_split\n",
    "from sklearn.preprocessing import LabelEncoder\n",
    "from sklearn.metrics import accuracy_score\n",
    "from sklearn.model_selection import cross_val_score"
   ]
  },
  {
   "cell_type": "code",
   "execution_count": 2434,
   "id": "984b9267",
   "metadata": {},
   "outputs": [],
   "source": [
    "df = pd.read_csv('credit_score_classification.csv', low_memory=False)"
   ]
  },
  {
   "cell_type": "code",
   "execution_count": 2435,
   "id": "c0d4fcde",
   "metadata": {},
   "outputs": [
    {
     "data": {
      "text/plain": [
       "Credit_Score\n",
       "Standard    53174\n",
       "Poor        28998\n",
       "Good        17828\n",
       "Name: count, dtype: int64"
      ]
     },
     "execution_count": 2435,
     "metadata": {},
     "output_type": "execute_result"
    }
   ],
   "source": [
    "df['Credit_Score'].value_counts()"
   ]
  },
  {
   "cell_type": "code",
   "execution_count": 2436,
   "id": "06853bde",
   "metadata": {},
   "outputs": [
    {
     "name": "stdout",
     "output_type": "stream",
     "text": [
      "<class 'pandas.core.frame.DataFrame'>\n",
      "RangeIndex: 100000 entries, 0 to 99999\n",
      "Data columns (total 8 columns):\n",
      " #   Column                    Non-Null Count   Dtype  \n",
      "---  ------                    --------------   -----  \n",
      " 0   Outstanding_Debt          100000 non-null  object \n",
      " 1   Credit_Utilization_Ratio  100000 non-null  float64\n",
      " 2   Credit_History_Age        90970 non-null   object \n",
      " 3   Payment_of_Min_Amount     100000 non-null  object \n",
      " 4   Total_EMI_per_month       100000 non-null  float64\n",
      " 5   Amount_invested_monthly   95521 non-null   object \n",
      " 6   Payment_Behaviour         100000 non-null  object \n",
      " 7   Monthly_Balance           98800 non-null   object \n",
      "dtypes: float64(2), object(6)\n",
      "memory usage: 6.1+ MB\n"
     ]
    }
   ],
   "source": [
    "df.loc[:, 'Outstanding_Debt':'Monthly_Balance'].info()"
   ]
  },
  {
   "cell_type": "code",
   "execution_count": 2437,
   "id": "418fa457",
   "metadata": {},
   "outputs": [
    {
     "data": {
      "text/html": [
       "<div>\n",
       "<style scoped>\n",
       "    .dataframe tbody tr th:only-of-type {\n",
       "        vertical-align: middle;\n",
       "    }\n",
       "\n",
       "    .dataframe tbody tr th {\n",
       "        vertical-align: top;\n",
       "    }\n",
       "\n",
       "    .dataframe thead th {\n",
       "        text-align: right;\n",
       "    }\n",
       "</style>\n",
       "<table border=\"1\" class=\"dataframe\">\n",
       "  <thead>\n",
       "    <tr style=\"text-align: right;\">\n",
       "      <th></th>\n",
       "      <th>Monthly_Inhand_Salary</th>\n",
       "      <th>Num_Bank_Accounts</th>\n",
       "      <th>Num_Credit_Card</th>\n",
       "      <th>Interest_Rate</th>\n",
       "      <th>Delay_from_due_date</th>\n",
       "      <th>Num_Credit_Inquiries</th>\n",
       "      <th>Credit_Utilization_Ratio</th>\n",
       "      <th>Total_EMI_per_month</th>\n",
       "    </tr>\n",
       "  </thead>\n",
       "  <tbody>\n",
       "    <tr>\n",
       "      <th>count</th>\n",
       "      <td>84998.000000</td>\n",
       "      <td>100000.000000</td>\n",
       "      <td>100000.00000</td>\n",
       "      <td>100000.000000</td>\n",
       "      <td>100000.000000</td>\n",
       "      <td>98035.000000</td>\n",
       "      <td>100000.000000</td>\n",
       "      <td>100000.000000</td>\n",
       "    </tr>\n",
       "    <tr>\n",
       "      <th>mean</th>\n",
       "      <td>4194.170850</td>\n",
       "      <td>17.091280</td>\n",
       "      <td>22.47443</td>\n",
       "      <td>72.466040</td>\n",
       "      <td>21.068780</td>\n",
       "      <td>27.754251</td>\n",
       "      <td>32.285173</td>\n",
       "      <td>1403.118217</td>\n",
       "    </tr>\n",
       "    <tr>\n",
       "      <th>std</th>\n",
       "      <td>3183.686167</td>\n",
       "      <td>117.404834</td>\n",
       "      <td>129.05741</td>\n",
       "      <td>466.422621</td>\n",
       "      <td>14.860104</td>\n",
       "      <td>193.177339</td>\n",
       "      <td>5.116875</td>\n",
       "      <td>8306.041270</td>\n",
       "    </tr>\n",
       "    <tr>\n",
       "      <th>min</th>\n",
       "      <td>303.645417</td>\n",
       "      <td>-1.000000</td>\n",
       "      <td>0.00000</td>\n",
       "      <td>1.000000</td>\n",
       "      <td>-5.000000</td>\n",
       "      <td>0.000000</td>\n",
       "      <td>20.000000</td>\n",
       "      <td>0.000000</td>\n",
       "    </tr>\n",
       "    <tr>\n",
       "      <th>25%</th>\n",
       "      <td>1625.568229</td>\n",
       "      <td>3.000000</td>\n",
       "      <td>4.00000</td>\n",
       "      <td>8.000000</td>\n",
       "      <td>10.000000</td>\n",
       "      <td>3.000000</td>\n",
       "      <td>28.052567</td>\n",
       "      <td>30.306660</td>\n",
       "    </tr>\n",
       "    <tr>\n",
       "      <th>50%</th>\n",
       "      <td>3093.745000</td>\n",
       "      <td>6.000000</td>\n",
       "      <td>5.00000</td>\n",
       "      <td>13.000000</td>\n",
       "      <td>18.000000</td>\n",
       "      <td>6.000000</td>\n",
       "      <td>32.305784</td>\n",
       "      <td>69.249473</td>\n",
       "    </tr>\n",
       "    <tr>\n",
       "      <th>75%</th>\n",
       "      <td>5957.448333</td>\n",
       "      <td>7.000000</td>\n",
       "      <td>7.00000</td>\n",
       "      <td>20.000000</td>\n",
       "      <td>28.000000</td>\n",
       "      <td>9.000000</td>\n",
       "      <td>36.496663</td>\n",
       "      <td>161.224249</td>\n",
       "    </tr>\n",
       "    <tr>\n",
       "      <th>max</th>\n",
       "      <td>15204.633333</td>\n",
       "      <td>1798.000000</td>\n",
       "      <td>1499.00000</td>\n",
       "      <td>5797.000000</td>\n",
       "      <td>67.000000</td>\n",
       "      <td>2597.000000</td>\n",
       "      <td>50.000000</td>\n",
       "      <td>82331.000000</td>\n",
       "    </tr>\n",
       "  </tbody>\n",
       "</table>\n",
       "</div>"
      ],
      "text/plain": [
       "       Monthly_Inhand_Salary  Num_Bank_Accounts  Num_Credit_Card  \\\n",
       "count           84998.000000      100000.000000     100000.00000   \n",
       "mean             4194.170850          17.091280         22.47443   \n",
       "std              3183.686167         117.404834        129.05741   \n",
       "min               303.645417          -1.000000          0.00000   \n",
       "25%              1625.568229           3.000000          4.00000   \n",
       "50%              3093.745000           6.000000          5.00000   \n",
       "75%              5957.448333           7.000000          7.00000   \n",
       "max             15204.633333        1798.000000       1499.00000   \n",
       "\n",
       "       Interest_Rate  Delay_from_due_date  Num_Credit_Inquiries  \\\n",
       "count  100000.000000        100000.000000          98035.000000   \n",
       "mean       72.466040            21.068780             27.754251   \n",
       "std       466.422621            14.860104            193.177339   \n",
       "min         1.000000            -5.000000              0.000000   \n",
       "25%         8.000000            10.000000              3.000000   \n",
       "50%        13.000000            18.000000              6.000000   \n",
       "75%        20.000000            28.000000              9.000000   \n",
       "max      5797.000000            67.000000           2597.000000   \n",
       "\n",
       "       Credit_Utilization_Ratio  Total_EMI_per_month  \n",
       "count             100000.000000        100000.000000  \n",
       "mean                  32.285173          1403.118217  \n",
       "std                    5.116875          8306.041270  \n",
       "min                   20.000000             0.000000  \n",
       "25%                   28.052567            30.306660  \n",
       "50%                   32.305784            69.249473  \n",
       "75%                   36.496663           161.224249  \n",
       "max                   50.000000         82331.000000  "
      ]
     },
     "execution_count": 2437,
     "metadata": {},
     "output_type": "execute_result"
    }
   ],
   "source": [
    "df.describe()"
   ]
  },
  {
   "cell_type": "markdown",
   "id": "e4b3f87d",
   "metadata": {},
   "source": [
    "# Ajuste de data types"
   ]
  },
  {
   "cell_type": "code",
   "execution_count": 2438,
   "id": "44ea9811",
   "metadata": {},
   "outputs": [],
   "source": [
    "\n",
    "df['ID'] = df['ID'].astype('string')\n",
    "df['Customer_ID'] = df['Customer_ID'].astype('string')\n",
    "df['Month'] = df['Month'].astype('string')\n",
    "df['Name'] = df['Name'].astype('string')\n",
    "df['SSN'] = df['SSN'].astype('string')\n",
    "df['Occupation'] = df['Occupation'].astype('string')\n",
    "df['Type_of_Loan'] = df['Type_of_Loan'].astype('string')\n",
    "df['Payment_Behaviour'] = df['Payment_Behaviour'].astype('string')\n",
    "df['Payment_of_Min_Amount'] = df['Payment_of_Min_Amount'].astype('string')\n",
    "\n",
    "df['Age'] = df['Age'].str.replace('_', '').astype('int')\n",
    "df['Annual_Income'] = df['Annual_Income'].str.replace('_', '').astype('float')\n",
    "df['Num_of_Loan'] = df['Num_of_Loan'].str.replace('_', '').astype('int')\n",
    "df['Outstanding_Debt'] = df['Outstanding_Debt'].str.replace('_', '').astype('float')\n",
    "df['Amount_invested_monthly'] = df['Amount_invested_monthly'].str.replace('_', '').astype('float')\n",
    "df['Monthly_Balance'] = df['Monthly_Balance'].str.replace('_', '').astype('float')\n",
    "df['Num_of_Delayed_Payment'] = df['Num_of_Delayed_Payment'].str.replace('_', '').astype('float').fillna(0).astype('int')\n",
    "df['Changed_Credit_Limit'] = df['Changed_Credit_Limit'].str.replace('_', '0').astype('float').fillna(0)\n",
    "df['Credit_Mix'] = df['Credit_Mix'].str.replace('_', 'Não informado').astype('string')\n",
    "df['Credit_History_Age'] = df['Credit_History_Age'].fillna('Não informado').astype('string')\n",
    "\n",
    "df['Credit_Score'] = df['Credit_Score'].astype('category')"
   ]
  },
  {
   "cell_type": "code",
   "execution_count": 2439,
   "id": "b100d333",
   "metadata": {},
   "outputs": [
    {
     "data": {
      "text/plain": [
       "Age\n",
       "38    2.994\n",
       "28    2.968\n",
       "31    2.955\n",
       "Name: proportion, dtype: float64"
      ]
     },
     "execution_count": 2439,
     "metadata": {},
     "output_type": "execute_result"
    }
   ],
   "source": [
    "df2 = df['Age'].value_counts(normalize=True) * 100\n",
    "\n",
    "df2.sort_values(ascending=False).head(3)"
   ]
  },
  {
   "cell_type": "code",
   "execution_count": 2440,
   "id": "e7987b6e",
   "metadata": {},
   "outputs": [
    {
     "data": {
      "text/plain": [
       "Month\n",
       "January     12.5\n",
       "February    12.5\n",
       "March       12.5\n",
       "April       12.5\n",
       "May         12.5\n",
       "June        12.5\n",
       "July        12.5\n",
       "August      12.5\n",
       "Name: proportion, dtype: Float64"
      ]
     },
     "execution_count": 2440,
     "metadata": {},
     "output_type": "execute_result"
    }
   ],
   "source": [
    "df2 = df['Month'].value_counts(normalize=True) * 100\n",
    "\n",
    "df2.sort_values(ascending=False).head(10)"
   ]
  },
  {
   "cell_type": "code",
   "execution_count": 2441,
   "id": "7c29bebc",
   "metadata": {},
   "outputs": [
    {
     "data": {
      "text/plain": [
       "Age\n",
       "38    2.994\n",
       "28    2.968\n",
       "31    2.955\n",
       "Name: proportion, dtype: float64"
      ]
     },
     "execution_count": 2441,
     "metadata": {},
     "output_type": "execute_result"
    }
   ],
   "source": [
    "df2 = df['Age'].value_counts(normalize=True) * 100\n",
    "\n",
    "df2.sort_values(ascending=False).head(3)"
   ]
  },
  {
   "cell_type": "code",
   "execution_count": 2442,
   "id": "ef57c209",
   "metadata": {},
   "outputs": [
    {
     "data": {
      "text/plain": [
       "Occupation\n",
       "_______          7.062\n",
       "Lawyer           6.575\n",
       "Architect        6.355\n",
       "Engineer          6.35\n",
       "Scientist        6.299\n",
       "Mechanic         6.291\n",
       "Accountant       6.271\n",
       "Developer        6.235\n",
       "Media_Manager    6.232\n",
       "Teacher          6.215\n",
       "Name: proportion, dtype: Float64"
      ]
     },
     "execution_count": 2442,
     "metadata": {},
     "output_type": "execute_result"
    }
   ],
   "source": [
    "df2 = df['Occupation'].value_counts(normalize=True) * 100\n",
    "\n",
    "df2.sort_values(ascending=False).head(10)"
   ]
  },
  {
   "cell_type": "code",
   "execution_count": 2443,
   "id": "eb0d6d5f",
   "metadata": {},
   "outputs": [
    {
     "data": {
      "text/plain": [
       "Annual_Income\n",
       "17273.83     0.016\n",
       "17816.75     0.016\n",
       "40341.16     0.016\n",
       "9141.63      0.016\n",
       "109945.32    0.016\n",
       "36585.12     0.016\n",
       "20867.67     0.016\n",
       "22434.16     0.016\n",
       "32543.38     0.016\n",
       "33029.66     0.015\n",
       "Name: proportion, dtype: float64"
      ]
     },
     "execution_count": 2443,
     "metadata": {},
     "output_type": "execute_result"
    }
   ],
   "source": [
    "df2 = df['Annual_Income'].value_counts(normalize=True) * 100\n",
    "\n",
    "df2.sort_values(ascending=False).head(10)"
   ]
  },
  {
   "cell_type": "code",
   "execution_count": 2444,
   "id": "de8059a8",
   "metadata": {},
   "outputs": [
    {
     "data": {
      "text/plain": [
       "Monthly_Inhand_Salary\n",
       "6769.130000    0.017647\n",
       "6082.187500    0.017647\n",
       "6358.956667    0.017647\n",
       "2295.058333    0.017647\n",
       "3080.555000    0.016471\n",
       "4387.272500    0.015294\n",
       "5766.491667    0.015294\n",
       "6639.560000    0.015294\n",
       "536.431250     0.014118\n",
       "1315.560833    0.012941\n",
       "Name: proportion, dtype: float64"
      ]
     },
     "execution_count": 2444,
     "metadata": {},
     "output_type": "execute_result"
    }
   ],
   "source": [
    "df2 = df['Monthly_Inhand_Salary'].value_counts(normalize=True) * 100\n",
    "\n",
    "df2.sort_values(ascending=False).head(10)"
   ]
  },
  {
   "cell_type": "code",
   "execution_count": 2445,
   "id": "afcdcfd7",
   "metadata": {},
   "outputs": [
    {
     "data": {
      "text/plain": [
       "Num_Bank_Accounts\n",
       "6     13.001\n",
       "7     12.823\n",
       "8     12.765\n",
       "4     12.186\n",
       "5     12.118\n",
       "3     11.950\n",
       "9      5.443\n",
       "10     5.247\n",
       "1      4.490\n",
       "0      4.328\n",
       "Name: proportion, dtype: float64"
      ]
     },
     "execution_count": 2445,
     "metadata": {},
     "output_type": "execute_result"
    }
   ],
   "source": [
    "df2 = df['Num_Bank_Accounts'].value_counts(normalize=True) * 100\n",
    "\n",
    "df2.sort_values(ascending=False).head(10)"
   ]
  },
  {
   "cell_type": "code",
   "execution_count": 2446,
   "id": "8cac1a19",
   "metadata": {},
   "outputs": [
    {
     "data": {
      "text/plain": [
       "Num_Credit_Card\n",
       "5     18.459\n",
       "7     16.615\n",
       "6     16.559\n",
       "4     14.030\n",
       "3     13.277\n",
       "8      4.956\n",
       "10     4.860\n",
       "9      4.643\n",
       "2      2.149\n",
       "1      2.132\n",
       "Name: proportion, dtype: float64"
      ]
     },
     "execution_count": 2446,
     "metadata": {},
     "output_type": "execute_result"
    }
   ],
   "source": [
    "df2 = df['Num_Credit_Card'].value_counts(normalize=True) * 100\n",
    "\n",
    "df2.sort_values(ascending=False).head(10)"
   ]
  },
  {
   "cell_type": "code",
   "execution_count": 2447,
   "id": "d7e3d495",
   "metadata": {},
   "outputs": [
    {
     "data": {
      "text/plain": [
       "Interest_Rate\n",
       "8     5.012\n",
       "5     4.979\n",
       "6     4.721\n",
       "12    4.540\n",
       "10    4.540\n",
       "9     4.494\n",
       "7     4.494\n",
       "11    4.428\n",
       "18    4.102\n",
       "15    3.992\n",
       "Name: proportion, dtype: float64"
      ]
     },
     "execution_count": 2447,
     "metadata": {},
     "output_type": "execute_result"
    }
   ],
   "source": [
    "df2 = df['Interest_Rate'].value_counts(normalize=True) * 100\n",
    "\n",
    "df2.sort_values(ascending=False).head(10)"
   ]
  },
  {
   "cell_type": "code",
   "execution_count": 2448,
   "id": "b31f45ca",
   "metadata": {},
   "outputs": [
    {
     "data": {
      "text/plain": [
       "Num_of_Loan\n",
       " 3      15.104\n",
       " 2      15.032\n",
       " 4      14.743\n",
       " 0      10.930\n",
       " 1      10.606\n",
       " 6       7.803\n",
       " 7       7.344\n",
       " 5       7.197\n",
       "-100     3.876\n",
       " 9       3.702\n",
       "Name: proportion, dtype: float64"
      ]
     },
     "execution_count": 2448,
     "metadata": {},
     "output_type": "execute_result"
    }
   ],
   "source": [
    "df2 = df['Num_of_Loan'].value_counts(normalize=True) * 100\n",
    "\n",
    "df2.sort_values(ascending=False).head(10)"
   ]
  },
  {
   "cell_type": "code",
   "execution_count": 2449,
   "id": "0338d18b",
   "metadata": {},
   "outputs": [
    {
     "data": {
      "text/plain": [
       "Type_of_Loan\n",
       "Not Specified                      1.589308\n",
       "Credit-Builder Loan                1.444826\n",
       "Personal Loan                      1.435796\n",
       "Debt Consolidation Loan            1.426765\n",
       "Student Loan                       1.399675\n",
       "Payday Loan                        1.354524\n",
       "Mortgage Loan                      1.327434\n",
       "Auto Loan                          1.300343\n",
       "Home Equity Loan                   1.282283\n",
       "Personal Loan, and Student Loan    0.361206\n",
       "Name: proportion, dtype: Float64"
      ]
     },
     "execution_count": 2449,
     "metadata": {},
     "output_type": "execute_result"
    }
   ],
   "source": [
    "df2 = df['Type_of_Loan'].value_counts(normalize=True) * 100\n",
    "\n",
    "df2.sort_values(ascending=False).head(10)"
   ]
  },
  {
   "cell_type": "code",
   "execution_count": 2450,
   "id": "1483284f",
   "metadata": {},
   "outputs": [
    {
     "data": {
      "text/plain": [
       "Delay_from_due_date\n",
       "15    3.596\n",
       "13    3.424\n",
       "8     3.324\n",
       "14    3.313\n",
       "10    3.281\n",
       "7     3.234\n",
       "9     3.233\n",
       "11    3.182\n",
       "12    3.141\n",
       "6     3.137\n",
       "Name: proportion, dtype: float64"
      ]
     },
     "execution_count": 2450,
     "metadata": {},
     "output_type": "execute_result"
    }
   ],
   "source": [
    "df2 = df['Delay_from_due_date'].value_counts(normalize=True) * 100\n",
    "\n",
    "df2.sort_values(ascending=False).head(10)"
   ]
  },
  {
   "cell_type": "code",
   "execution_count": 2451,
   "id": "8917b924",
   "metadata": {},
   "outputs": [
    {
     "data": {
      "text/plain": [
       "Num_of_Delayed_Payment\n",
       "0     8.611\n",
       "19    5.481\n",
       "17    5.412\n",
       "16    5.312\n",
       "10    5.309\n",
       "15    5.237\n",
       "18    5.216\n",
       "20    5.089\n",
       "12    5.059\n",
       "9     4.981\n",
       "Name: proportion, dtype: float64"
      ]
     },
     "execution_count": 2451,
     "metadata": {},
     "output_type": "execute_result"
    }
   ],
   "source": [
    "df2 = df['Num_of_Delayed_Payment'].value_counts(normalize=True) * 100\n",
    "\n",
    "df2.sort_values(ascending=False).head(10)"
   ]
  },
  {
   "cell_type": "code",
   "execution_count": 2452,
   "id": "37aa15ba",
   "metadata": {},
   "outputs": [
    {
     "data": {
      "text/plain": [
       "Changed_Credit_Limit\n",
       "0.00     2.095\n",
       "8.22     0.133\n",
       "11.50    0.127\n",
       "11.32    0.126\n",
       "7.35     0.121\n",
       "10.06    0.121\n",
       "8.23     0.115\n",
       "11.49    0.113\n",
       "7.69     0.110\n",
       "7.33     0.110\n",
       "Name: proportion, dtype: float64"
      ]
     },
     "execution_count": 2452,
     "metadata": {},
     "output_type": "execute_result"
    }
   ],
   "source": [
    "df2 = df['Changed_Credit_Limit'].value_counts(normalize=True) * 100\n",
    "\n",
    "df2.sort_values(ascending=False).head(10)"
   ]
  },
  {
   "cell_type": "code",
   "execution_count": 2453,
   "id": "8ef35e7e",
   "metadata": {},
   "outputs": [
    {
     "data": {
      "text/plain": [
       "Num_Credit_Inquiries\n",
       "4.0    11.496914\n",
       "3.0     9.068190\n",
       "6.0     8.273576\n",
       "7.0     8.219513\n",
       "2.0     8.188912\n",
       "8.0     8.023665\n",
       "1.0     7.740093\n",
       "0.0     7.111746\n",
       "5.0     5.807110\n",
       "9.0     5.388892\n",
       "Name: proportion, dtype: float64"
      ]
     },
     "execution_count": 2453,
     "metadata": {},
     "output_type": "execute_result"
    }
   ],
   "source": [
    "df2 = df['Num_Credit_Inquiries'].value_counts(normalize=True) * 100\n",
    "\n",
    "df2.sort_values(ascending=False).head(10)"
   ]
  },
  {
   "cell_type": "code",
   "execution_count": 2454,
   "id": "9eb55d71",
   "metadata": {},
   "outputs": [
    {
     "data": {
      "text/plain": [
       "Credit_Mix\n",
       "Standard         36.479\n",
       "Good             24.337\n",
       "Não informado    20.195\n",
       "Bad              18.989\n",
       "Name: proportion, dtype: Float64"
      ]
     },
     "execution_count": 2454,
     "metadata": {},
     "output_type": "execute_result"
    }
   ],
   "source": [
    "df2 = df['Credit_Mix'].value_counts(normalize=True) * 100\n",
    "\n",
    "df2.sort_values(ascending=False).head(10)"
   ]
  },
  {
   "cell_type": "code",
   "execution_count": 2455,
   "id": "8a4749a0",
   "metadata": {},
   "outputs": [
    {
     "data": {
      "text/plain": [
       "Outstanding_Debt\n",
       "1151.70    0.024\n",
       "460.46     0.024\n",
       "1109.03    0.024\n",
       "1360.45    0.024\n",
       "1457.54    0.016\n",
       "952.39     0.016\n",
       "28.15      0.016\n",
       "434.36     0.016\n",
       "1124.02    0.016\n",
       "380.09     0.016\n",
       "Name: proportion, dtype: float64"
      ]
     },
     "execution_count": 2455,
     "metadata": {},
     "output_type": "execute_result"
    }
   ],
   "source": [
    "df2 = df['Outstanding_Debt'].value_counts(normalize=True) * 100\n",
    "\n",
    "df2.sort_values(ascending=False).head(10)"
   ]
  },
  {
   "cell_type": "code",
   "execution_count": 2456,
   "id": "ecc12d55",
   "metadata": {},
   "outputs": [
    {
     "data": {
      "text/plain": [
       "Credit_Utilization_Ratio\n",
       "26.822620    0.001\n",
       "31.944960    0.001\n",
       "28.609352    0.001\n",
       "31.377862    0.001\n",
       "24.797347    0.001\n",
       "27.262259    0.001\n",
       "22.537593    0.001\n",
       "23.933795    0.001\n",
       "24.464031    0.001\n",
       "38.550848    0.001\n",
       "Name: proportion, dtype: float64"
      ]
     },
     "execution_count": 2456,
     "metadata": {},
     "output_type": "execute_result"
    }
   ],
   "source": [
    "df2 = df['Credit_Utilization_Ratio'].value_counts(normalize=True) * 100\n",
    "\n",
    "df2.sort_values(ascending=False).head(10)"
   ]
  },
  {
   "cell_type": "code",
   "execution_count": 2457,
   "id": "5d09b779",
   "metadata": {},
   "outputs": [
    {
     "data": {
      "text/plain": [
       "Credit_Utilization_Ratio\n",
       "26.822620    0.001\n",
       "31.944960    0.001\n",
       "28.609352    0.001\n",
       "31.377862    0.001\n",
       "24.797347    0.001\n",
       "27.262259    0.001\n",
       "22.537593    0.001\n",
       "23.933795    0.001\n",
       "24.464031    0.001\n",
       "38.550848    0.001\n",
       "Name: proportion, dtype: float64"
      ]
     },
     "execution_count": 2457,
     "metadata": {},
     "output_type": "execute_result"
    }
   ],
   "source": [
    "df2 = df['Credit_Utilization_Ratio'].value_counts(normalize=True) * 100\n",
    "\n",
    "df2.sort_values(ascending=False).head(10)"
   ]
  },
  {
   "cell_type": "code",
   "execution_count": 2458,
   "id": "a1ab74fe",
   "metadata": {},
   "outputs": [
    {
     "data": {
      "text/plain": [
       "Credit_History_Age\n",
       "Não informado              9.03\n",
       "15 Years and 11 Months    0.446\n",
       "19 Years and 4 Months     0.445\n",
       "19 Years and 5 Months     0.444\n",
       "17 Years and 11 Months    0.443\n",
       "19 Years and 3 Months     0.441\n",
       "17 Years and 9 Months     0.438\n",
       "15 Years and 10 Months    0.436\n",
       "17 Years and 10 Months    0.435\n",
       "15 Years and 9 Months     0.432\n",
       "Name: proportion, dtype: Float64"
      ]
     },
     "execution_count": 2458,
     "metadata": {},
     "output_type": "execute_result"
    }
   ],
   "source": [
    "df2 = df['Credit_History_Age'].value_counts(normalize=True) * 100\n",
    "\n",
    "df2.sort_values(ascending=False).head(10)"
   ]
  },
  {
   "cell_type": "code",
   "execution_count": 2459,
   "id": "dd4dc01e",
   "metadata": {},
   "outputs": [
    {
     "data": {
      "text/plain": [
       "Payment_of_Min_Amount\n",
       "Yes    52.326\n",
       "No     35.667\n",
       "NM     12.007\n",
       "Name: proportion, dtype: Float64"
      ]
     },
     "execution_count": 2459,
     "metadata": {},
     "output_type": "execute_result"
    }
   ],
   "source": [
    "df2 = df['Payment_of_Min_Amount'].value_counts(normalize=True) * 100\n",
    "\n",
    "df2.sort_values(ascending=False).head(10)"
   ]
  },
  {
   "cell_type": "code",
   "execution_count": 2460,
   "id": "90a51f0b",
   "metadata": {},
   "outputs": [
    {
     "data": {
      "text/plain": [
       "Total_EMI_per_month\n",
       "0.000000      10.613\n",
       "31.086195      0.008\n",
       "149.897199     0.008\n",
       "62.222285      0.008\n",
       "171.430198     0.008\n",
       "69.602920      0.008\n",
       "246.992319     0.008\n",
       "84.205949      0.008\n",
       "49.574949      0.008\n",
       "72.099176      0.008\n",
       "Name: proportion, dtype: float64"
      ]
     },
     "execution_count": 2460,
     "metadata": {},
     "output_type": "execute_result"
    }
   ],
   "source": [
    "df2 = df['Total_EMI_per_month'].value_counts(normalize=True) * 100\n",
    "\n",
    "df2.sort_values(ascending=False).head(10)"
   ]
  },
  {
   "cell_type": "code",
   "execution_count": 2461,
   "id": "25441eaf",
   "metadata": {},
   "outputs": [
    {
     "data": {
      "text/plain": [
       "Amount_invested_monthly\n",
       "10000.000000    4.506862\n",
       "0.000000        0.176924\n",
       "167.163865      0.001047\n",
       "80.415295       0.001047\n",
       "118.280222      0.001047\n",
       "81.699521       0.001047\n",
       "199.458074      0.001047\n",
       "41.420153       0.001047\n",
       "62.430172       0.001047\n",
       "178.344067      0.001047\n",
       "Name: proportion, dtype: float64"
      ]
     },
     "execution_count": 2461,
     "metadata": {},
     "output_type": "execute_result"
    }
   ],
   "source": [
    "df2 = df['Amount_invested_monthly'].value_counts(normalize=True) * 100\n",
    "\n",
    "df2.sort_values(ascending=False).head(10)"
   ]
  },
  {
   "cell_type": "code",
   "execution_count": 2462,
   "id": "6300f62b",
   "metadata": {},
   "outputs": [
    {
     "data": {
      "text/plain": [
       "Payment_Behaviour\n",
       "Low_spent_Small_value_payments      25.513\n",
       "High_spent_Medium_value_payments     17.54\n",
       "Low_spent_Medium_value_payments     13.861\n",
       "High_spent_Large_value_payments     13.721\n",
       "High_spent_Small_value_payments      11.34\n",
       "Low_spent_Large_value_payments      10.425\n",
       "!@9#%8                                 7.6\n",
       "Name: proportion, dtype: Float64"
      ]
     },
     "execution_count": 2462,
     "metadata": {},
     "output_type": "execute_result"
    }
   ],
   "source": [
    "df2 = df['Payment_Behaviour'].value_counts(normalize=True) * 100\n",
    "\n",
    "df2.sort_values(ascending=False).head(10)"
   ]
  },
  {
   "cell_type": "code",
   "execution_count": 2463,
   "id": "ca835e0d",
   "metadata": {},
   "outputs": [
    {
     "data": {
      "text/plain": [
       "Monthly_Balance\n",
       "-3.333333e+26    0.009109\n",
       " 3.286552e+02    0.001012\n",
       " 4.325593e+02    0.001012\n",
       " 4.706906e+02    0.001012\n",
       " 3.936737e+02    0.001012\n",
       " 3.124941e+02    0.001012\n",
       " 2.846292e+02    0.001012\n",
       " 3.312099e+02    0.001012\n",
       " 2.234513e+02    0.001012\n",
       " 3.187374e+02    0.001012\n",
       "Name: proportion, dtype: float64"
      ]
     },
     "execution_count": 2463,
     "metadata": {},
     "output_type": "execute_result"
    }
   ],
   "source": [
    "df2 = df['Monthly_Balance'].value_counts(normalize=True) * 100\n",
    "\n",
    "df2.sort_values(ascending=False).head(10)"
   ]
  },
  {
   "cell_type": "code",
   "execution_count": 2464,
   "id": "5406dee9",
   "metadata": {},
   "outputs": [
    {
     "data": {
      "text/plain": [
       "Credit_Score\n",
       "Standard    53.174\n",
       "Poor        28.998\n",
       "Good        17.828\n",
       "Name: proportion, dtype: float64"
      ]
     },
     "execution_count": 2464,
     "metadata": {},
     "output_type": "execute_result"
    }
   ],
   "source": [
    "df2 = df['Credit_Score'].value_counts(normalize=True) * 100\n",
    "\n",
    "df2.sort_values(ascending=False).head(10)"
   ]
  },
  {
   "cell_type": "code",
   "execution_count": 2465,
   "id": "c1efa761",
   "metadata": {},
   "outputs": [
    {
     "name": "stdout",
     "output_type": "stream",
     "text": [
      "<class 'pandas.core.frame.DataFrame'>\n",
      "RangeIndex: 100000 entries, 0 to 99999\n",
      "Data columns (total 28 columns):\n",
      " #   Column                    Non-Null Count   Dtype   \n",
      "---  ------                    --------------   -----   \n",
      " 0   ID                        100000 non-null  string  \n",
      " 1   Customer_ID               100000 non-null  string  \n",
      " 2   Month                     100000 non-null  string  \n",
      " 3   Name                      90015 non-null   string  \n",
      " 4   Age                       100000 non-null  int64   \n",
      " 5   SSN                       100000 non-null  string  \n",
      " 6   Occupation                100000 non-null  string  \n",
      " 7   Annual_Income             100000 non-null  float64 \n",
      " 8   Monthly_Inhand_Salary     84998 non-null   float64 \n",
      " 9   Num_Bank_Accounts         100000 non-null  int64   \n",
      " 10  Num_Credit_Card           100000 non-null  int64   \n",
      " 11  Interest_Rate             100000 non-null  int64   \n",
      " 12  Num_of_Loan               100000 non-null  int64   \n",
      " 13  Type_of_Loan              88592 non-null   string  \n",
      " 14  Delay_from_due_date       100000 non-null  int64   \n",
      " 15  Num_of_Delayed_Payment    100000 non-null  int64   \n",
      " 16  Changed_Credit_Limit      100000 non-null  float64 \n",
      " 17  Num_Credit_Inquiries      98035 non-null   float64 \n",
      " 18  Credit_Mix                100000 non-null  string  \n",
      " 19  Outstanding_Debt          100000 non-null  float64 \n",
      " 20  Credit_Utilization_Ratio  100000 non-null  float64 \n",
      " 21  Credit_History_Age        100000 non-null  string  \n",
      " 22  Payment_of_Min_Amount     100000 non-null  string  \n",
      " 23  Total_EMI_per_month       100000 non-null  float64 \n",
      " 24  Amount_invested_monthly   95521 non-null   float64 \n",
      " 25  Payment_Behaviour         100000 non-null  string  \n",
      " 26  Monthly_Balance           98800 non-null   float64 \n",
      " 27  Credit_Score              100000 non-null  category\n",
      "dtypes: category(1), float64(9), int64(7), string(11)\n",
      "memory usage: 20.7 MB\n"
     ]
    }
   ],
   "source": [
    "df.info()"
   ]
  },
  {
   "cell_type": "code",
   "execution_count": 2466,
   "id": "595c0a53",
   "metadata": {},
   "outputs": [
    {
     "name": "stdout",
     "output_type": "stream",
     "text": [
      "<class 'pandas.core.frame.DataFrame'>\n",
      "RangeIndex: 100000 entries, 0 to 99999\n",
      "Data columns (total 8 columns):\n",
      " #   Column                    Non-Null Count   Dtype  \n",
      "---  ------                    --------------   -----  \n",
      " 0   Outstanding_Debt          100000 non-null  float64\n",
      " 1   Credit_Utilization_Ratio  100000 non-null  float64\n",
      " 2   Credit_History_Age        100000 non-null  string \n",
      " 3   Payment_of_Min_Amount     100000 non-null  string \n",
      " 4   Total_EMI_per_month       100000 non-null  float64\n",
      " 5   Amount_invested_monthly   95521 non-null   float64\n",
      " 6   Payment_Behaviour         100000 non-null  string \n",
      " 7   Monthly_Balance           98800 non-null   float64\n",
      "dtypes: float64(5), string(3)\n",
      "memory usage: 6.1 MB\n"
     ]
    }
   ],
   "source": [
    "df.loc[:, 'Outstanding_Debt':'Monthly_Balance'].info()"
   ]
  },
  {
   "cell_type": "markdown",
   "id": "336dac07",
   "metadata": {},
   "source": [
    "# Remover colunas que não entram em modelos"
   ]
  },
  {
   "cell_type": "code",
   "execution_count": 2467,
   "id": "82072cfe",
   "metadata": {},
   "outputs": [],
   "source": [
    "df = df.drop(['ID', 'Customer_ID', 'Month', 'Name', 'SSN', 'Type_of_Loan', 'Credit_History_Age'], axis=1)"
   ]
  },
  {
   "cell_type": "code",
   "execution_count": 2468,
   "id": "ca15cc04",
   "metadata": {},
   "outputs": [
    {
     "name": "stdout",
     "output_type": "stream",
     "text": [
      "<class 'pandas.core.frame.DataFrame'>\n",
      "RangeIndex: 100000 entries, 0 to 99999\n",
      "Data columns (total 21 columns):\n",
      " #   Column                    Non-Null Count   Dtype   \n",
      "---  ------                    --------------   -----   \n",
      " 0   Age                       100000 non-null  int64   \n",
      " 1   Occupation                100000 non-null  string  \n",
      " 2   Annual_Income             100000 non-null  float64 \n",
      " 3   Monthly_Inhand_Salary     84998 non-null   float64 \n",
      " 4   Num_Bank_Accounts         100000 non-null  int64   \n",
      " 5   Num_Credit_Card           100000 non-null  int64   \n",
      " 6   Interest_Rate             100000 non-null  int64   \n",
      " 7   Num_of_Loan               100000 non-null  int64   \n",
      " 8   Delay_from_due_date       100000 non-null  int64   \n",
      " 9   Num_of_Delayed_Payment    100000 non-null  int64   \n",
      " 10  Changed_Credit_Limit      100000 non-null  float64 \n",
      " 11  Num_Credit_Inquiries      98035 non-null   float64 \n",
      " 12  Credit_Mix                100000 non-null  string  \n",
      " 13  Outstanding_Debt          100000 non-null  float64 \n",
      " 14  Credit_Utilization_Ratio  100000 non-null  float64 \n",
      " 15  Payment_of_Min_Amount     100000 non-null  string  \n",
      " 16  Total_EMI_per_month       100000 non-null  float64 \n",
      " 17  Amount_invested_monthly   95521 non-null   float64 \n",
      " 18  Payment_Behaviour         100000 non-null  string  \n",
      " 19  Monthly_Balance           98800 non-null   float64 \n",
      " 20  Credit_Score              100000 non-null  category\n",
      "dtypes: category(1), float64(9), int64(7), string(4)\n",
      "memory usage: 15.4 MB\n"
     ]
    }
   ],
   "source": [
    "df.info()"
   ]
  },
  {
   "cell_type": "code",
   "execution_count": 2470,
   "id": "d52bdf3b",
   "metadata": {},
   "outputs": [],
   "source": [
    "df = df.loc[(df['Age'] >= 0) & (df['Age'] <= 120)]\n",
    "df = df.loc[df['Annual_Income'] >= 0]\n",
    "df = df.loc[df['Monthly_Inhand_Salary'] >= 0]\n",
    "df = df.loc[df['Num_Bank_Accounts'] >= 0]\n",
    "df = df.loc[df['Num_Credit_Card'] >= 0]\n",
    "df = df.loc[df['Interest_Rate'] >= 0]\n",
    "df = df.loc[df['Num_of_Loan'] >= 0]\n",
    "df = df.loc[df['Delay_from_due_date'] >= 0]\n",
    "df = df.loc[df['Num_of_Delayed_Payment'] >= 0]\n",
    "df = df.loc[df['Num_Credit_Inquiries'] >= 0]\n",
    "df = df.loc[df['Outstanding_Debt'] >= 0]\n",
    "df = df.loc[df['Credit_Utilization_Ratio'] >= 0]\n",
    "df = df.loc[df['Total_EMI_per_month'] >= 0]\n",
    "df = df.loc[df['Amount_invested_monthly'] >= 0]"
   ]
  },
  {
   "cell_type": "markdown",
   "id": "ee078416",
   "metadata": {},
   "source": [
    "# Limpeza de colunas categóricas"
   ]
  },
  {
   "cell_type": "code",
   "execution_count": 2471,
   "id": "e9c78427",
   "metadata": {},
   "outputs": [
    {
     "data": {
      "text/plain": [
       "0        Scientist\n",
       "4        Scientist\n",
       "6        Scientist\n",
       "7        Scientist\n",
       "8          _______\n",
       "           ...    \n",
       "99995     Mechanic\n",
       "99996     Mechanic\n",
       "99997     Mechanic\n",
       "99998     Mechanic\n",
       "99999     Mechanic\n",
       "Name: Occupation, Length: 73496, dtype: string"
      ]
     },
     "execution_count": 2471,
     "metadata": {},
     "output_type": "execute_result"
    }
   ],
   "source": [
    "df['Occupation']"
   ]
  },
  {
   "cell_type": "code",
   "execution_count": 2472,
   "id": "9e1f772a",
   "metadata": {},
   "outputs": [],
   "source": [
    "indices_para_remover = df[df[\"Occupation\"].str.contains(\"_\", na=False)].index\n",
    "df.drop(index=indices_para_remover, inplace=True)"
   ]
  },
  {
   "cell_type": "code",
   "execution_count": 2473,
   "id": "ca8f4e57",
   "metadata": {},
   "outputs": [
    {
     "data": {
      "text/plain": [
       "<StringArray>\n",
       "[   'Scientist',      'Teacher',     'Engineer', 'Entrepreneur',\n",
       "    'Developer',       'Lawyer',       'Doctor',   'Journalist',\n",
       "      'Manager',   'Accountant',     'Musician',     'Mechanic',\n",
       "       'Writer',    'Architect']\n",
       "Length: 14, dtype: string"
      ]
     },
     "execution_count": 2473,
     "metadata": {},
     "output_type": "execute_result"
    }
   ],
   "source": [
    "df['Occupation'].unique()"
   ]
  },
  {
   "cell_type": "code",
   "execution_count": 2474,
   "id": "7675bf3f",
   "metadata": {},
   "outputs": [],
   "source": [
    "indices_para_remover = df[df[\"Credit_Mix\"].str.contains(\"Não informado\", na=False)].index\n",
    "df.drop(index=indices_para_remover, inplace=True)"
   ]
  },
  {
   "cell_type": "code",
   "execution_count": 2475,
   "id": "2962b106",
   "metadata": {},
   "outputs": [
    {
     "data": {
      "text/plain": [
       "<StringArray>\n",
       "['Good', 'Standard', 'Bad']\n",
       "Length: 3, dtype: string"
      ]
     },
     "execution_count": 2475,
     "metadata": {},
     "output_type": "execute_result"
    }
   ],
   "source": [
    "df['Credit_Mix'].unique()"
   ]
  },
  {
   "cell_type": "code",
   "execution_count": 2476,
   "id": "8307d51e",
   "metadata": {},
   "outputs": [],
   "source": [
    "indices_para_remover = df[df[\"Payment_of_Min_Amount\"].str.contains(\"NM\", na=False)].index\n",
    "df.drop(index=indices_para_remover, inplace=True)"
   ]
  },
  {
   "cell_type": "code",
   "execution_count": 2477,
   "id": "a1880891",
   "metadata": {},
   "outputs": [
    {
     "data": {
      "text/plain": [
       "<StringArray>\n",
       "['No', 'Yes']\n",
       "Length: 2, dtype: string"
      ]
     },
     "execution_count": 2477,
     "metadata": {},
     "output_type": "execute_result"
    }
   ],
   "source": [
    "df['Payment_of_Min_Amount'].unique()"
   ]
  },
  {
   "cell_type": "code",
   "execution_count": 2478,
   "id": "5b64a194",
   "metadata": {},
   "outputs": [],
   "source": [
    "indices_para_remover = df[df[\"Payment_Behaviour\"].str.contains(\"!@9#%8\", na=False)].index\n",
    "df.drop(index=indices_para_remover, inplace=True)"
   ]
  },
  {
   "cell_type": "code",
   "execution_count": 2479,
   "id": "ec263ec4",
   "metadata": {},
   "outputs": [
    {
     "data": {
      "text/plain": [
       "<StringArray>\n",
       "['High_spent_Medium_value_payments',   'Low_spent_Small_value_payments',\n",
       "  'High_spent_Large_value_payments',  'High_spent_Small_value_payments',\n",
       "   'Low_spent_Large_value_payments',  'Low_spent_Medium_value_payments']\n",
       "Length: 6, dtype: string"
      ]
     },
     "execution_count": 2479,
     "metadata": {},
     "output_type": "execute_result"
    }
   ],
   "source": [
    "df['Payment_Behaviour'].unique()"
   ]
  },
  {
   "cell_type": "code",
   "execution_count": 2480,
   "id": "6434f424",
   "metadata": {},
   "outputs": [],
   "source": [
    "# indices_para_remover = df[df[\"Credit_History_Age\"].str.contains(\"Não informado\", na=False)].index\n",
    "# df.drop(index=indices_para_remover, inplace=True)\n",
    "# df['Credit_History_Age'] = df['Credit_History_Age'].dropna()"
   ]
  },
  {
   "cell_type": "markdown",
   "id": "754e7699",
   "metadata": {},
   "source": [
    "# Transformar string em category"
   ]
  },
  {
   "cell_type": "code",
   "execution_count": 2481,
   "id": "e33f7fdd",
   "metadata": {},
   "outputs": [],
   "source": [
    "df['Occupation'] = df['Occupation'].astype('category')\n",
    "df['Credit_Mix'] = df['Credit_Mix'].astype('category')\n",
    "df['Payment_of_Min_Amount'] = df['Payment_of_Min_Amount'].astype('category')\n",
    "df['Payment_Behaviour'] = df['Payment_Behaviour'].astype('category')"
   ]
  },
  {
   "cell_type": "code",
   "execution_count": 2482,
   "id": "00295731",
   "metadata": {},
   "outputs": [
    {
     "name": "stdout",
     "output_type": "stream",
     "text": [
      "<class 'pandas.core.frame.DataFrame'>\n",
      "Index: 41413 entries, 4 to 99998\n",
      "Data columns (total 21 columns):\n",
      " #   Column                    Non-Null Count  Dtype   \n",
      "---  ------                    --------------  -----   \n",
      " 0   Age                       41413 non-null  int64   \n",
      " 1   Occupation                41413 non-null  category\n",
      " 2   Annual_Income             41413 non-null  float64 \n",
      " 3   Monthly_Inhand_Salary     41413 non-null  float64 \n",
      " 4   Num_Bank_Accounts         41413 non-null  int64   \n",
      " 5   Num_Credit_Card           41413 non-null  int64   \n",
      " 6   Interest_Rate             41413 non-null  int64   \n",
      " 7   Num_of_Loan               41413 non-null  int64   \n",
      " 8   Delay_from_due_date       41413 non-null  int64   \n",
      " 9   Num_of_Delayed_Payment    41413 non-null  int64   \n",
      " 10  Changed_Credit_Limit      41413 non-null  float64 \n",
      " 11  Num_Credit_Inquiries      41413 non-null  float64 \n",
      " 12  Credit_Mix                41413 non-null  category\n",
      " 13  Outstanding_Debt          41413 non-null  float64 \n",
      " 14  Credit_Utilization_Ratio  41413 non-null  float64 \n",
      " 15  Payment_of_Min_Amount     41413 non-null  category\n",
      " 16  Total_EMI_per_month       41413 non-null  float64 \n",
      " 17  Amount_invested_monthly   41413 non-null  float64 \n",
      " 18  Payment_Behaviour         41413 non-null  category\n",
      " 19  Monthly_Balance           40914 non-null  float64 \n",
      " 20  Credit_Score              41413 non-null  category\n",
      "dtypes: category(5), float64(9), int64(7)\n",
      "memory usage: 5.6 MB\n"
     ]
    }
   ],
   "source": [
    "df.info()"
   ]
  },
  {
   "cell_type": "code",
   "execution_count": 2483,
   "id": "732068ac",
   "metadata": {},
   "outputs": [
    {
     "name": "stdout",
     "output_type": "stream",
     "text": [
      "<class 'pandas.core.frame.DataFrame'>\n",
      "Index: 41413 entries, 4 to 99998\n",
      "Data columns (total 21 columns):\n",
      " #   Column                    Non-Null Count  Dtype   \n",
      "---  ------                    --------------  -----   \n",
      " 0   Age                       41413 non-null  int64   \n",
      " 1   Occupation                41413 non-null  category\n",
      " 2   Annual_Income             41413 non-null  float64 \n",
      " 3   Monthly_Inhand_Salary     41413 non-null  float64 \n",
      " 4   Num_Bank_Accounts         41413 non-null  int64   \n",
      " 5   Num_Credit_Card           41413 non-null  int64   \n",
      " 6   Interest_Rate             41413 non-null  int64   \n",
      " 7   Num_of_Loan               41413 non-null  int64   \n",
      " 8   Delay_from_due_date       41413 non-null  int64   \n",
      " 9   Num_of_Delayed_Payment    41413 non-null  int64   \n",
      " 10  Changed_Credit_Limit      41413 non-null  float64 \n",
      " 11  Num_Credit_Inquiries      41413 non-null  float64 \n",
      " 12  Credit_Mix                41413 non-null  category\n",
      " 13  Outstanding_Debt          41413 non-null  float64 \n",
      " 14  Credit_Utilization_Ratio  41413 non-null  float64 \n",
      " 15  Payment_of_Min_Amount     41413 non-null  category\n",
      " 16  Total_EMI_per_month       41413 non-null  float64 \n",
      " 17  Amount_invested_monthly   41413 non-null  float64 \n",
      " 18  Payment_Behaviour         41413 non-null  category\n",
      " 19  Monthly_Balance           40914 non-null  float64 \n",
      " 20  Credit_Score              41413 non-null  category\n",
      "dtypes: category(5), float64(9), int64(7)\n",
      "memory usage: 5.6 MB\n"
     ]
    }
   ],
   "source": [
    "df.info()"
   ]
  },
  {
   "cell_type": "code",
   "execution_count": 2484,
   "id": "e8e5caaa",
   "metadata": {},
   "outputs": [
    {
     "data": {
      "text/plain": [
       "Credit_Score\n",
       "Standard    22152\n",
       "Poor        12190\n",
       "Good         7071\n",
       "Name: count, dtype: int64"
      ]
     },
     "execution_count": 2484,
     "metadata": {},
     "output_type": "execute_result"
    }
   ],
   "source": [
    "df['Credit_Score'].value_counts()"
   ]
  },
  {
   "cell_type": "code",
   "execution_count": 2485,
   "id": "7420b5ab",
   "metadata": {},
   "outputs": [
    {
     "data": {
      "image/png": "[encoded data removed]",
      "text/plain": [
       "<Figure size 640x480 with 2 Axes>"
      ]
     },
     "metadata": {},
     "output_type": "display_data"
    },
    {
     "name": "stdout",
     "output_type": "stream",
     "text": [
      "              precision    recall  f1-score   support\n",
      "\n",
      "           0     0.5794    0.5654    0.5724      1406\n",
      "           1     0.6546    0.6620    0.6583      2482\n",
      "           2     0.7144    0.7154    0.7149      4395\n",
      "\n",
      "    accuracy                         0.6739      8283\n",
      "   macro avg     0.6495    0.6476    0.6485      8283\n",
      "weighted avg     0.6736    0.6739    0.6737      8283\n",
      "\n",
      "Accuracy: 0.67\n"
     ]
    }
   ],
   "source": [
    "from sklearn import metrics\n",
    "import matplotlib.pyplot as plt\n",
    "\n",
    "label_encoder = LabelEncoder()\n",
    "\n",
    "df['Credit_Score'] = label_encoder.fit_transform(df['Credit_Score'])\n",
    "\n",
    "# Carregar o conjunto de dados\n",
    "\n",
    "# todas as colunas menos o target\n",
    "x = df.drop(\"Credit_Score\", axis=1)\n",
    "\n",
    "# aplicar label encoder nas categóricas\n",
    "x['Occupation'] = label_encoder.fit_transform(x['Occupation'])\n",
    "x['Credit_Mix'] = label_encoder.fit_transform(x['Credit_Mix'])\n",
    "x['Payment_of_Min_Amount'] = label_encoder.fit_transform(x['Payment_of_Min_Amount'])\n",
    "x['Payment_Behaviour'] = label_encoder.fit_transform(x['Payment_Behaviour'])\n",
    "\n",
    "# apenas a target\n",
    "y = df[\"Credit_Score\"]\n",
    "# y['Credit_Score'] = label_encoder.fit_transform(y['Credit_Score'])\n",
    "\n",
    "# Dividir os dados em conjuntos de treinamento e teste\n",
    "x_train, x_test, y_train, y_test = train_test_split(x, y, test_size=0.2, random_state=42)\n",
    "\n",
    "# Criar e treinar o modelo de árvore de decisão\n",
    "classifier = tree.DecisionTreeClassifier()\n",
    "classifier.fit(x_train, y_train)\n",
    "y_pred = classifier.predict(x_test)\n",
    "\n",
    "cm = metrics.confusion_matrix(y_test, y_pred)\n",
    "\n",
    "disp = metrics.ConfusionMatrixDisplay(confusion_matrix=cm, display_labels=[0,1,2])\n",
    "disp.plot(cmap=\"Blues\")\n",
    "plt.show()\n",
    "\n",
    "# Avaliar o modelo\n",
    "accuracy = classifier.score(x_test, y_test)\n",
    "print(metrics.classification_report(y_test, y_pred, digits=4))\n",
    "print(f\"Accuracy: {accuracy:.2f}\")\n",
    "# tree.plot_tree(classifier)\n",
    "\n",
    "# # Para imprimir na página HTML\n",
    "# buffer = StringIO()\n",
    "# plt.savefig(buffer, format=\"svg\")\n",
    "# print(buffer.getvalue())"
   ]
  },
  {
   "cell_type": "code",
   "execution_count": 2486,
   "id": "77c0cfd3",
   "metadata": {},
   "outputs": [
    {
     "data": {
      "text/plain": [
       "Credit_Score\n",
       "2    22152\n",
       "1    12190\n",
       "0     7071\n",
       "Name: count, dtype: int64"
      ]
     },
     "execution_count": 2486,
     "metadata": {},
     "output_type": "execute_result"
    }
   ],
   "source": [
    "df['Credit_Score'].value_counts()"
   ]
  }
 ],
 "metadata": {
  "kernelspec": {
   "display_name": "env",
   "language": "python",
   "name": "python3"
  },
  "language_info": {
   "codemirror_mode": {
    "name": "ipython",
    "version": 3
   },
   "file_extension": ".py",
   "mimetype": "text/x-python",
   "name": "python",
   "nbconvert_exporter": "python",
   "pygments_lexer": "ipython3",
   "version": "3.12.5"
  }
 },
 "nbformat": 4,
 "nbformat_minor": 5
}
