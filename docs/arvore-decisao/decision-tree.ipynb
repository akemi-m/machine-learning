{
 "cells": [
  {
   "cell_type": "code",
   "execution_count": 169,
   "id": "963845e5",
   "metadata": {},
   "outputs": [],
   "source": [
    "import matplotlib.pyplot as plt\n",
    "import pandas as pd\n",
    "\n",
    "from io import StringIO\n",
    "from sklearn import tree\n",
    "from sklearn.model_selection import train_test_split\n",
    "from sklearn.preprocessing import LabelEncoder\n",
    "from sklearn.metrics import accuracy_score\n",
    "from sklearn.model_selection import cross_val_score"
   ]
  },
  {
   "cell_type": "code",
   "execution_count": 170,
   "id": "984b9267",
   "metadata": {},
   "outputs": [],
   "source": [
    "df = pd.read_csv('credit_score_classification.csv', low_memory=False)"
   ]
  },
  {
   "cell_type": "code",
   "execution_count": 171,
   "id": "65c0a4e2",
   "metadata": {},
   "outputs": [
    {
     "name": "stdout",
     "output_type": "stream",
     "text": [
      "<class 'pandas.core.frame.DataFrame'>\n",
      "RangeIndex: 100000 entries, 0 to 99999\n",
      "Data columns (total 28 columns):\n",
      " #   Column                    Non-Null Count   Dtype  \n",
      "---  ------                    --------------   -----  \n",
      " 0   ID                        100000 non-null  object \n",
      " 1   Customer_ID               100000 non-null  object \n",
      " 2   Month                     100000 non-null  object \n",
      " 3   Name                      90015 non-null   object \n",
      " 4   Age                       100000 non-null  object \n",
      " 5   SSN                       100000 non-null  object \n",
      " 6   Occupation                100000 non-null  object \n",
      " 7   Annual_Income             100000 non-null  object \n",
      " 8   Monthly_Inhand_Salary     84998 non-null   float64\n",
      " 9   Num_Bank_Accounts         100000 non-null  int64  \n",
      " 10  Num_Credit_Card           100000 non-null  int64  \n",
      " 11  Interest_Rate             100000 non-null  int64  \n",
      " 12  Num_of_Loan               100000 non-null  object \n",
      " 13  Type_of_Loan              88592 non-null   object \n",
      " 14  Delay_from_due_date       100000 non-null  int64  \n",
      " 15  Num_of_Delayed_Payment    92998 non-null   object \n",
      " 16  Changed_Credit_Limit      100000 non-null  object \n",
      " 17  Num_Credit_Inquiries      98035 non-null   float64\n",
      " 18  Credit_Mix                100000 non-null  object \n",
      " 19  Outstanding_Debt          100000 non-null  object \n",
      " 20  Credit_Utilization_Ratio  100000 non-null  float64\n",
      " 21  Credit_History_Age        90970 non-null   object \n",
      " 22  Payment_of_Min_Amount     100000 non-null  object \n",
      " 23  Total_EMI_per_month       100000 non-null  float64\n",
      " 24  Amount_invested_monthly   95521 non-null   object \n",
      " 25  Payment_Behaviour         100000 non-null  object \n",
      " 26  Monthly_Balance           98800 non-null   object \n",
      " 27  Credit_Score              100000 non-null  object \n",
      "dtypes: float64(4), int64(4), object(20)\n",
      "memory usage: 21.4+ MB\n"
     ]
    }
   ],
   "source": [
    "df.info()"
   ]
  },
  {
   "cell_type": "markdown",
   "id": "e4b3f87d",
   "metadata": {},
   "source": [
    "# Ajuste de data types"
   ]
  },
  {
   "cell_type": "code",
   "execution_count": 172,
   "id": "06853bde",
   "metadata": {},
   "outputs": [
    {
     "name": "stdout",
     "output_type": "stream",
     "text": [
      "<class 'pandas.core.frame.DataFrame'>\n",
      "RangeIndex: 100000 entries, 0 to 99999\n",
      "Data columns (total 8 columns):\n",
      " #   Column                    Non-Null Count   Dtype  \n",
      "---  ------                    --------------   -----  \n",
      " 0   Outstanding_Debt          100000 non-null  object \n",
      " 1   Credit_Utilization_Ratio  100000 non-null  float64\n",
      " 2   Credit_History_Age        90970 non-null   object \n",
      " 3   Payment_of_Min_Amount     100000 non-null  object \n",
      " 4   Total_EMI_per_month       100000 non-null  float64\n",
      " 5   Amount_invested_monthly   95521 non-null   object \n",
      " 6   Payment_Behaviour         100000 non-null  object \n",
      " 7   Monthly_Balance           98800 non-null   object \n",
      "dtypes: float64(2), object(6)\n",
      "memory usage: 6.1+ MB\n"
     ]
    }
   ],
   "source": [
    "df.loc[:, 'Outstanding_Debt':'Monthly_Balance'].info()"
   ]
  },
  {
   "cell_type": "code",
   "execution_count": 173,
   "id": "44ea9811",
   "metadata": {},
   "outputs": [],
   "source": [
    "df['ID'] = df['ID'].astype('string')\n",
    "df['Customer_ID'] = df['Customer_ID'].astype('string')\n",
    "df['Month'] = df['Month'].astype('string')\n",
    "df['Name'] = df['Name'].astype('string')\n",
    "df['Age'] = df['Age'].str.replace('_', '').astype('int')\n",
    "df['SSN'] = df['SSN'].astype('string')\n",
    "df['Occupation'] = df['Occupation'].astype('string')\n",
    "df['Annual_Income'] = df['Annual_Income'].str.replace('_', '').astype(float)\n",
    "df['Num_of_Loan'] = df['Num_of_Loan'].str.replace('_', '').astype(int)\n",
    "df['Type_of_Loan'] = df['Type_of_Loan'].astype('string')\n",
    "df['Num_of_Delayed_Payment'] = df['Num_of_Delayed_Payment'].str.replace('_', '').astype('float').fillna(0).astype('int')\n",
    "df['Changed_Credit_Limit'] = df['Changed_Credit_Limit'].str.replace('_', '0').astype('float').fillna(0)\n",
    "df['Credit_Mix'] = df['Credit_Mix'].str.replace('_', 'Não informado').astype('string')\n",
    "df['Outstanding_Debt'] = df['Outstanding_Debt'].str.replace('_', '').astype('float')\n",
    "df['Credit_History_Age'] = df['Credit_History_Age'].fillna('Não informado').astype('string')\n",
    "df['Payment_of_Min_Amount'] = df['Payment_of_Min_Amount'].astype('string')\n",
    "df['Amount_invested_monthly'] = df['Amount_invested_monthly'].str.replace('_', '').astype(float)\n",
    "df['Payment_Behaviour'] = df['Payment_Behaviour'].astype('string')\n",
    "df['Monthly_Balance'] = df['Monthly_Balance'].str.replace('_', '').astype(float)\n",
    "df['Credit_Score'] = df['Credit_Score'].astype('category')"
   ]
  },
  {
   "cell_type": "code",
   "execution_count": 174,
   "id": "c1efa761",
   "metadata": {},
   "outputs": [
    {
     "name": "stdout",
     "output_type": "stream",
     "text": [
      "<class 'pandas.core.frame.DataFrame'>\n",
      "RangeIndex: 100000 entries, 0 to 99999\n",
      "Data columns (total 28 columns):\n",
      " #   Column                    Non-Null Count   Dtype   \n",
      "---  ------                    --------------   -----   \n",
      " 0   ID                        100000 non-null  string  \n",
      " 1   Customer_ID               100000 non-null  string  \n",
      " 2   Month                     100000 non-null  string  \n",
      " 3   Name                      90015 non-null   string  \n",
      " 4   Age                       100000 non-null  int64   \n",
      " 5   SSN                       100000 non-null  string  \n",
      " 6   Occupation                100000 non-null  string  \n",
      " 7   Annual_Income             100000 non-null  float64 \n",
      " 8   Monthly_Inhand_Salary     84998 non-null   float64 \n",
      " 9   Num_Bank_Accounts         100000 non-null  int64   \n",
      " 10  Num_Credit_Card           100000 non-null  int64   \n",
      " 11  Interest_Rate             100000 non-null  int64   \n",
      " 12  Num_of_Loan               100000 non-null  int64   \n",
      " 13  Type_of_Loan              88592 non-null   string  \n",
      " 14  Delay_from_due_date       100000 non-null  int64   \n",
      " 15  Num_of_Delayed_Payment    100000 non-null  int64   \n",
      " 16  Changed_Credit_Limit      100000 non-null  float64 \n",
      " 17  Num_Credit_Inquiries      98035 non-null   float64 \n",
      " 18  Credit_Mix                100000 non-null  string  \n",
      " 19  Outstanding_Debt          100000 non-null  float64 \n",
      " 20  Credit_Utilization_Ratio  100000 non-null  float64 \n",
      " 21  Credit_History_Age        100000 non-null  string  \n",
      " 22  Payment_of_Min_Amount     100000 non-null  string  \n",
      " 23  Total_EMI_per_month       100000 non-null  float64 \n",
      " 24  Amount_invested_monthly   95521 non-null   float64 \n",
      " 25  Payment_Behaviour         100000 non-null  string  \n",
      " 26  Monthly_Balance           98800 non-null   float64 \n",
      " 27  Credit_Score              100000 non-null  category\n",
      "dtypes: category(1), float64(9), int64(7), string(11)\n",
      "memory usage: 20.7 MB\n"
     ]
    }
   ],
   "source": [
    "df.info()"
   ]
  }
 ],
 "metadata": {
  "kernelspec": {
   "display_name": "env",
   "language": "python",
   "name": "python3"
  },
  "language_info": {
   "codemirror_mode": {
    "name": "ipython",
    "version": 3
   },
   "file_extension": ".py",
   "mimetype": "text/x-python",
   "name": "python",
   "nbconvert_exporter": "python",
   "pygments_lexer": "ipython3",
   "version": "3.12.5"
  }
 },
 "nbformat": 4,
 "nbformat_minor": 5
}
