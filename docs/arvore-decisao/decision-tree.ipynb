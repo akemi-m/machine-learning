{
 "cells": [
  {
   "cell_type": "markdown",
   "id": "fee19652",
   "metadata": {},
   "source": [
    "Puxar as libs"
   ]
  },
  {
   "cell_type": "code",
   "execution_count": 48,
   "id": "963845e5",
   "metadata": {},
   "outputs": [],
   "source": [
    "import matplotlib.pyplot as plt\n",
    "import pandas as pd\n",
    "\n",
    "from io import StringIO\n",
    "from sklearn import tree\n",
    "from sklearn.model_selection import train_test_split\n",
    "from sklearn.preprocessing import LabelEncoder\n",
    "from sklearn.metrics import accuracy_score\n",
    "from sklearn.model_selection import cross_val_score"
   ]
  },
  {
   "cell_type": "markdown",
   "id": "0d922fa8",
   "metadata": {},
   "source": [
    "Puxar a base"
   ]
  },
  {
   "cell_type": "code",
   "execution_count": 49,
   "id": "984b9267",
   "metadata": {},
   "outputs": [],
   "source": [
    "df = pd.read_csv('credit_score_classification.csv', low_memory=False)"
   ]
  },
  {
   "cell_type": "markdown",
   "id": "e6ac0c30",
   "metadata": {},
   "source": [
    "Quantidade por target"
   ]
  },
  {
   "cell_type": "code",
   "execution_count": 50,
   "id": "c0d4fcde",
   "metadata": {},
   "outputs": [
    {
     "data": {
      "text/plain": [
       "Credit_Score\n",
       "Standard    53174\n",
       "Poor        28998\n",
       "Good        17828\n",
       "Name: count, dtype: int64"
      ]
     },
     "execution_count": 50,
     "metadata": {},
     "output_type": "execute_result"
    }
   ],
   "source": [
    "df['Credit_Score'].value_counts()"
   ]
  },
  {
   "cell_type": "markdown",
   "id": "57453b69",
   "metadata": {},
   "source": [
    "Mostrar a tipagem das tabelas"
   ]
  },
  {
   "cell_type": "code",
   "execution_count": 51,
   "id": "8c4d7dad",
   "metadata": {},
   "outputs": [
    {
     "name": "stdout",
     "output_type": "stream",
     "text": [
      "<class 'pandas.core.frame.DataFrame'>\n",
      "RangeIndex: 100000 entries, 0 to 99999\n",
      "Data columns (total 28 columns):\n",
      " #   Column                    Non-Null Count   Dtype  \n",
      "---  ------                    --------------   -----  \n",
      " 0   ID                        100000 non-null  object \n",
      " 1   Customer_ID               100000 non-null  object \n",
      " 2   Month                     100000 non-null  object \n",
      " 3   Name                      90015 non-null   object \n",
      " 4   Age                       100000 non-null  object \n",
      " 5   SSN                       100000 non-null  object \n",
      " 6   Occupation                100000 non-null  object \n",
      " 7   Annual_Income             100000 non-null  object \n",
      " 8   Monthly_Inhand_Salary     84998 non-null   float64\n",
      " 9   Num_Bank_Accounts         100000 non-null  int64  \n",
      " 10  Num_Credit_Card           100000 non-null  int64  \n",
      " 11  Interest_Rate             100000 non-null  int64  \n",
      " 12  Num_of_Loan               100000 non-null  object \n",
      " 13  Type_of_Loan              88592 non-null   object \n",
      " 14  Delay_from_due_date       100000 non-null  int64  \n",
      " 15  Num_of_Delayed_Payment    92998 non-null   object \n",
      " 16  Changed_Credit_Limit      100000 non-null  object \n",
      " 17  Num_Credit_Inquiries      98035 non-null   float64\n",
      " 18  Credit_Mix                100000 non-null  object \n",
      " 19  Outstanding_Debt          100000 non-null  object \n",
      " 20  Credit_Utilization_Ratio  100000 non-null  float64\n",
      " 21  Credit_History_Age        90970 non-null   object \n",
      " 22  Payment_of_Min_Amount     100000 non-null  object \n",
      " 23  Total_EMI_per_month       100000 non-null  float64\n",
      " 24  Amount_invested_monthly   95521 non-null   object \n",
      " 25  Payment_Behaviour         100000 non-null  object \n",
      " 26  Monthly_Balance           98800 non-null   object \n",
      " 27  Credit_Score              100000 non-null  object \n",
      "dtypes: float64(4), int64(4), object(20)\n",
      "memory usage: 21.4+ MB\n"
     ]
    }
   ],
   "source": [
    "df.info()"
   ]
  },
  {
   "cell_type": "markdown",
   "id": "7af15dae",
   "metadata": {},
   "source": [
    "Resto das tabelas"
   ]
  },
  {
   "cell_type": "code",
   "execution_count": 52,
   "id": "06853bde",
   "metadata": {},
   "outputs": [
    {
     "name": "stdout",
     "output_type": "stream",
     "text": [
      "<class 'pandas.core.frame.DataFrame'>\n",
      "RangeIndex: 100000 entries, 0 to 99999\n",
      "Data columns (total 8 columns):\n",
      " #   Column                    Non-Null Count   Dtype  \n",
      "---  ------                    --------------   -----  \n",
      " 0   Outstanding_Debt          100000 non-null  object \n",
      " 1   Credit_Utilization_Ratio  100000 non-null  float64\n",
      " 2   Credit_History_Age        90970 non-null   object \n",
      " 3   Payment_of_Min_Amount     100000 non-null  object \n",
      " 4   Total_EMI_per_month       100000 non-null  float64\n",
      " 5   Amount_invested_monthly   95521 non-null   object \n",
      " 6   Payment_Behaviour         100000 non-null  object \n",
      " 7   Monthly_Balance           98800 non-null   object \n",
      "dtypes: float64(2), object(6)\n",
      "memory usage: 6.1+ MB\n"
     ]
    }
   ],
   "source": [
    "df.loc[:, 'Outstanding_Debt':'Monthly_Balance'].info()"
   ]
  },
  {
   "cell_type": "markdown",
   "id": "e4b3f87d",
   "metadata": {},
   "source": [
    "Ajuste de data types com limpezas primárias"
   ]
  },
  {
   "cell_type": "code",
   "execution_count": 53,
   "id": "44ea9811",
   "metadata": {},
   "outputs": [],
   "source": [
    "df['ID'] = df['ID'].astype('string')\n",
    "df['Customer_ID'] = df['Customer_ID'].astype('string')\n",
    "df['Month'] = df['Month'].astype('string')\n",
    "df['Name'] = df['Name'].astype('string')\n",
    "df['SSN'] = df['SSN'].astype('string')\n",
    "df['Occupation'] = df['Occupation'].astype('string')\n",
    "df['Type_of_Loan'] = df['Type_of_Loan'].astype('string')\n",
    "df['Payment_Behaviour'] = df['Payment_Behaviour'].astype('string')\n",
    "df['Payment_of_Min_Amount'] = df['Payment_of_Min_Amount'].astype('string')\n",
    "df['Credit_Utilization_Ratio'] = df['Credit_Utilization_Ratio'].astype('float')\n",
    "\n",
    "df['Age'] = df['Age'].str.replace('_', '').astype('int')\n",
    "df['Annual_Income'] = df['Annual_Income'].str.replace('_', '').astype('float')\n",
    "df['Num_of_Loan'] = df['Num_of_Loan'].str.replace('_', '').astype('int')\n",
    "df['Outstanding_Debt'] = df['Outstanding_Debt'].str.replace('_', '').astype('float')\n",
    "df['Amount_invested_monthly'] = df['Amount_invested_monthly'].str.replace('_', '').astype('float')\n",
    "df['Monthly_Balance'] = df['Monthly_Balance'].str.replace('_', '').astype('float')\n",
    "df['Num_of_Delayed_Payment'] = df['Num_of_Delayed_Payment'].str.replace('_', '').astype('float').fillna(0).astype('int')\n",
    "df['Changed_Credit_Limit'] = df['Changed_Credit_Limit'].str.replace('_', '0').astype('float').fillna(0)\n",
    "df['Credit_Mix'] = df['Credit_Mix'].str.replace('_', 'Não informado').astype('string')\n",
    "df['Credit_History_Age'] = df['Credit_History_Age'].fillna('Não informado').astype('string')\n",
    "\n",
    "df['Credit_Score'] = df['Credit_Score'].astype('category')"
   ]
  },
  {
   "cell_type": "markdown",
   "id": "fef730c8",
   "metadata": {},
   "source": [
    "Verificação das estatísticas descritivas"
   ]
  },
  {
   "cell_type": "code",
   "execution_count": 54,
   "id": "b100d333",
   "metadata": {},
   "outputs": [
    {
     "data": {
      "text/plain": [
       "Age\n",
       "38    2.994\n",
       "28    2.968\n",
       "31    2.955\n",
       "Name: proportion, dtype: float64"
      ]
     },
     "execution_count": 54,
     "metadata": {},
     "output_type": "execute_result"
    }
   ],
   "source": [
    "df2 = df['Age'].value_counts(normalize=True) * 100\n",
    "\n",
    "df2.sort_values(ascending=False).head(3)"
   ]
  },
  {
   "cell_type": "code",
   "execution_count": 55,
   "id": "e7987b6e",
   "metadata": {},
   "outputs": [
    {
     "data": {
      "text/plain": [
       "Month\n",
       "January     12.5\n",
       "February    12.5\n",
       "March       12.5\n",
       "April       12.5\n",
       "May         12.5\n",
       "June        12.5\n",
       "July        12.5\n",
       "August      12.5\n",
       "Name: proportion, dtype: Float64"
      ]
     },
     "execution_count": 55,
     "metadata": {},
     "output_type": "execute_result"
    }
   ],
   "source": [
    "df2 = df['Month'].value_counts(normalize=True) * 100\n",
    "\n",
    "df2.sort_values(ascending=False).head(10)"
   ]
  },
  {
   "cell_type": "code",
   "execution_count": 56,
   "id": "7c29bebc",
   "metadata": {},
   "outputs": [
    {
     "data": {
      "text/plain": [
       "Age\n",
       "38    2.994\n",
       "28    2.968\n",
       "31    2.955\n",
       "Name: proportion, dtype: float64"
      ]
     },
     "execution_count": 56,
     "metadata": {},
     "output_type": "execute_result"
    }
   ],
   "source": [
    "df2 = df['Age'].value_counts(normalize=True) * 100\n",
    "\n",
    "df2.sort_values(ascending=False).head(3)"
   ]
  },
  {
   "cell_type": "code",
   "execution_count": 57,
   "id": "ef57c209",
   "metadata": {},
   "outputs": [
    {
     "data": {
      "text/plain": [
       "Occupation\n",
       "_______          7.062\n",
       "Lawyer           6.575\n",
       "Architect        6.355\n",
       "Engineer          6.35\n",
       "Scientist        6.299\n",
       "Mechanic         6.291\n",
       "Accountant       6.271\n",
       "Developer        6.235\n",
       "Media_Manager    6.232\n",
       "Teacher          6.215\n",
       "Name: proportion, dtype: Float64"
      ]
     },
     "execution_count": 57,
     "metadata": {},
     "output_type": "execute_result"
    }
   ],
   "source": [
    "df2 = df['Occupation'].value_counts(normalize=True) * 100\n",
    "\n",
    "df2.sort_values(ascending=False).head(10)"
   ]
  },
  {
   "cell_type": "code",
   "execution_count": 58,
   "id": "eb0d6d5f",
   "metadata": {},
   "outputs": [
    {
     "data": {
      "text/plain": [
       "Annual_Income\n",
       "17273.83     0.016\n",
       "17816.75     0.016\n",
       "40341.16     0.016\n",
       "9141.63      0.016\n",
       "109945.32    0.016\n",
       "36585.12     0.016\n",
       "20867.67     0.016\n",
       "22434.16     0.016\n",
       "32543.38     0.016\n",
       "33029.66     0.015\n",
       "Name: proportion, dtype: float64"
      ]
     },
     "execution_count": 58,
     "metadata": {},
     "output_type": "execute_result"
    }
   ],
   "source": [
    "df2 = df['Annual_Income'].value_counts(normalize=True) * 100\n",
    "\n",
    "df2.sort_values(ascending=False).head(10)"
   ]
  },
  {
   "cell_type": "code",
   "execution_count": 59,
   "id": "de8059a8",
   "metadata": {},
   "outputs": [
    {
     "data": {
      "text/plain": [
       "Monthly_Inhand_Salary\n",
       "6769.130000    0.017647\n",
       "6082.187500    0.017647\n",
       "6358.956667    0.017647\n",
       "2295.058333    0.017647\n",
       "3080.555000    0.016471\n",
       "4387.272500    0.015294\n",
       "5766.491667    0.015294\n",
       "6639.560000    0.015294\n",
       "536.431250     0.014118\n",
       "1315.560833    0.012941\n",
       "Name: proportion, dtype: float64"
      ]
     },
     "execution_count": 59,
     "metadata": {},
     "output_type": "execute_result"
    }
   ],
   "source": [
    "df2 = df['Monthly_Inhand_Salary'].value_counts(normalize=True) * 100\n",
    "\n",
    "df2.sort_values(ascending=False).head(10)"
   ]
  },
  {
   "cell_type": "code",
   "execution_count": 60,
   "id": "afcdcfd7",
   "metadata": {},
   "outputs": [
    {
     "data": {
      "text/plain": [
       "Num_Bank_Accounts\n",
       "6     13.001\n",
       "7     12.823\n",
       "8     12.765\n",
       "4     12.186\n",
       "5     12.118\n",
       "3     11.950\n",
       "9      5.443\n",
       "10     5.247\n",
       "1      4.490\n",
       "0      4.328\n",
       "Name: proportion, dtype: float64"
      ]
     },
     "execution_count": 60,
     "metadata": {},
     "output_type": "execute_result"
    }
   ],
   "source": [
    "df2 = df['Num_Bank_Accounts'].value_counts(normalize=True) * 100\n",
    "\n",
    "df2.sort_values(ascending=False).head(10)"
   ]
  },
  {
   "cell_type": "code",
   "execution_count": 61,
   "id": "8cac1a19",
   "metadata": {},
   "outputs": [
    {
     "data": {
      "text/plain": [
       "Num_Credit_Card\n",
       "5     18.459\n",
       "7     16.615\n",
       "6     16.559\n",
       "4     14.030\n",
       "3     13.277\n",
       "8      4.956\n",
       "10     4.860\n",
       "9      4.643\n",
       "2      2.149\n",
       "1      2.132\n",
       "Name: proportion, dtype: float64"
      ]
     },
     "execution_count": 61,
     "metadata": {},
     "output_type": "execute_result"
    }
   ],
   "source": [
    "df2 = df['Num_Credit_Card'].value_counts(normalize=True) * 100\n",
    "\n",
    "df2.sort_values(ascending=False).head(10)"
   ]
  },
  {
   "cell_type": "code",
   "execution_count": 62,
   "id": "d7e3d495",
   "metadata": {},
   "outputs": [
    {
     "data": {
      "text/plain": [
       "Interest_Rate\n",
       "8     5.012\n",
       "5     4.979\n",
       "6     4.721\n",
       "12    4.540\n",
       "10    4.540\n",
       "9     4.494\n",
       "7     4.494\n",
       "11    4.428\n",
       "18    4.102\n",
       "15    3.992\n",
       "Name: proportion, dtype: float64"
      ]
     },
     "execution_count": 62,
     "metadata": {},
     "output_type": "execute_result"
    }
   ],
   "source": [
    "df2 = df['Interest_Rate'].value_counts(normalize=True) * 100\n",
    "\n",
    "df2.sort_values(ascending=False).head(10)"
   ]
  },
  {
   "cell_type": "code",
   "execution_count": 63,
   "id": "b31f45ca",
   "metadata": {},
   "outputs": [
    {
     "data": {
      "text/plain": [
       "Num_of_Loan\n",
       " 3      15.104\n",
       " 2      15.032\n",
       " 4      14.743\n",
       " 0      10.930\n",
       " 1      10.606\n",
       " 6       7.803\n",
       " 7       7.344\n",
       " 5       7.197\n",
       "-100     3.876\n",
       " 9       3.702\n",
       "Name: proportion, dtype: float64"
      ]
     },
     "execution_count": 63,
     "metadata": {},
     "output_type": "execute_result"
    }
   ],
   "source": [
    "df2 = df['Num_of_Loan'].value_counts(normalize=True) * 100\n",
    "\n",
    "df2.sort_values(ascending=False).head(10)"
   ]
  },
  {
   "cell_type": "code",
   "execution_count": 64,
   "id": "0338d18b",
   "metadata": {},
   "outputs": [
    {
     "data": {
      "text/plain": [
       "Type_of_Loan\n",
       "Not Specified                      1.589308\n",
       "Credit-Builder Loan                1.444826\n",
       "Personal Loan                      1.435796\n",
       "Debt Consolidation Loan            1.426765\n",
       "Student Loan                       1.399675\n",
       "Payday Loan                        1.354524\n",
       "Mortgage Loan                      1.327434\n",
       "Auto Loan                          1.300343\n",
       "Home Equity Loan                   1.282283\n",
       "Personal Loan, and Student Loan    0.361206\n",
       "Name: proportion, dtype: Float64"
      ]
     },
     "execution_count": 64,
     "metadata": {},
     "output_type": "execute_result"
    }
   ],
   "source": [
    "df2 = df['Type_of_Loan'].value_counts(normalize=True) * 100\n",
    "\n",
    "df2.sort_values(ascending=False).head(10)"
   ]
  },
  {
   "cell_type": "code",
   "execution_count": 65,
   "id": "1483284f",
   "metadata": {},
   "outputs": [
    {
     "data": {
      "text/plain": [
       "Delay_from_due_date\n",
       "15    3.596\n",
       "13    3.424\n",
       "8     3.324\n",
       "14    3.313\n",
       "10    3.281\n",
       "7     3.234\n",
       "9     3.233\n",
       "11    3.182\n",
       "12    3.141\n",
       "6     3.137\n",
       "Name: proportion, dtype: float64"
      ]
     },
     "execution_count": 65,
     "metadata": {},
     "output_type": "execute_result"
    }
   ],
   "source": [
    "df2 = df['Delay_from_due_date'].value_counts(normalize=True) * 100\n",
    "\n",
    "df2.sort_values(ascending=False).head(10)"
   ]
  },
  {
   "cell_type": "code",
   "execution_count": 66,
   "id": "8917b924",
   "metadata": {},
   "outputs": [
    {
     "data": {
      "text/plain": [
       "Num_of_Delayed_Payment\n",
       "0     8.611\n",
       "19    5.481\n",
       "17    5.412\n",
       "16    5.312\n",
       "10    5.309\n",
       "15    5.237\n",
       "18    5.216\n",
       "20    5.089\n",
       "12    5.059\n",
       "9     4.981\n",
       "Name: proportion, dtype: float64"
      ]
     },
     "execution_count": 66,
     "metadata": {},
     "output_type": "execute_result"
    }
   ],
   "source": [
    "df2 = df['Num_of_Delayed_Payment'].value_counts(normalize=True) * 100\n",
    "\n",
    "df2.sort_values(ascending=False).head(10)"
   ]
  },
  {
   "cell_type": "code",
   "execution_count": 67,
   "id": "37aa15ba",
   "metadata": {},
   "outputs": [
    {
     "data": {
      "text/plain": [
       "Changed_Credit_Limit\n",
       "0.00     2.095\n",
       "8.22     0.133\n",
       "11.50    0.127\n",
       "11.32    0.126\n",
       "7.35     0.121\n",
       "10.06    0.121\n",
       "8.23     0.115\n",
       "11.49    0.113\n",
       "7.69     0.110\n",
       "7.33     0.110\n",
       "Name: proportion, dtype: float64"
      ]
     },
     "execution_count": 67,
     "metadata": {},
     "output_type": "execute_result"
    }
   ],
   "source": [
    "df2 = df['Changed_Credit_Limit'].value_counts(normalize=True) * 100\n",
    "\n",
    "df2.sort_values(ascending=False).head(10)"
   ]
  },
  {
   "cell_type": "code",
   "execution_count": 68,
   "id": "8ef35e7e",
   "metadata": {},
   "outputs": [
    {
     "data": {
      "text/plain": [
       "Num_Credit_Inquiries\n",
       "4.0    11.496914\n",
       "3.0     9.068190\n",
       "6.0     8.273576\n",
       "7.0     8.219513\n",
       "2.0     8.188912\n",
       "8.0     8.023665\n",
       "1.0     7.740093\n",
       "0.0     7.111746\n",
       "5.0     5.807110\n",
       "9.0     5.388892\n",
       "Name: proportion, dtype: float64"
      ]
     },
     "execution_count": 68,
     "metadata": {},
     "output_type": "execute_result"
    }
   ],
   "source": [
    "df2 = df['Num_Credit_Inquiries'].value_counts(normalize=True) * 100\n",
    "\n",
    "df2.sort_values(ascending=False).head(10)"
   ]
  },
  {
   "cell_type": "code",
   "execution_count": 69,
   "id": "9eb55d71",
   "metadata": {},
   "outputs": [
    {
     "data": {
      "text/plain": [
       "Credit_Mix\n",
       "Standard         36.479\n",
       "Good             24.337\n",
       "Não informado    20.195\n",
       "Bad              18.989\n",
       "Name: proportion, dtype: Float64"
      ]
     },
     "execution_count": 69,
     "metadata": {},
     "output_type": "execute_result"
    }
   ],
   "source": [
    "df2 = df['Credit_Mix'].value_counts(normalize=True) * 100\n",
    "\n",
    "df2.sort_values(ascending=False).head(10)"
   ]
  },
  {
   "cell_type": "code",
   "execution_count": 70,
   "id": "8a4749a0",
   "metadata": {},
   "outputs": [
    {
     "data": {
      "text/plain": [
       "Outstanding_Debt\n",
       "1151.70    0.024\n",
       "460.46     0.024\n",
       "1109.03    0.024\n",
       "1360.45    0.024\n",
       "1457.54    0.016\n",
       "952.39     0.016\n",
       "28.15      0.016\n",
       "434.36     0.016\n",
       "1124.02    0.016\n",
       "380.09     0.016\n",
       "Name: proportion, dtype: float64"
      ]
     },
     "execution_count": 70,
     "metadata": {},
     "output_type": "execute_result"
    }
   ],
   "source": [
    "df2 = df['Outstanding_Debt'].value_counts(normalize=True) * 100\n",
    "\n",
    "df2.sort_values(ascending=False).head(10)"
   ]
  },
  {
   "cell_type": "code",
   "execution_count": 71,
   "id": "ecc12d55",
   "metadata": {},
   "outputs": [
    {
     "data": {
      "text/plain": [
       "Credit_Utilization_Ratio\n",
       "26.822620    0.001\n",
       "31.944960    0.001\n",
       "28.609352    0.001\n",
       "31.377862    0.001\n",
       "24.797347    0.001\n",
       "27.262259    0.001\n",
       "22.537593    0.001\n",
       "23.933795    0.001\n",
       "24.464031    0.001\n",
       "38.550848    0.001\n",
       "Name: proportion, dtype: float64"
      ]
     },
     "execution_count": 71,
     "metadata": {},
     "output_type": "execute_result"
    }
   ],
   "source": [
    "df2 = df['Credit_Utilization_Ratio'].value_counts(normalize=True) * 100\n",
    "\n",
    "df2.sort_values(ascending=False).head(10)"
   ]
  },
  {
   "cell_type": "code",
   "execution_count": 72,
   "id": "5d09b779",
   "metadata": {},
   "outputs": [
    {
     "data": {
      "text/plain": [
       "Credit_Utilization_Ratio\n",
       "26.822620    0.001\n",
       "31.944960    0.001\n",
       "28.609352    0.001\n",
       "31.377862    0.001\n",
       "24.797347    0.001\n",
       "27.262259    0.001\n",
       "22.537593    0.001\n",
       "23.933795    0.001\n",
       "24.464031    0.001\n",
       "38.550848    0.001\n",
       "Name: proportion, dtype: float64"
      ]
     },
     "execution_count": 72,
     "metadata": {},
     "output_type": "execute_result"
    }
   ],
   "source": [
    "df2 = df['Credit_Utilization_Ratio'].value_counts(normalize=True) * 100\n",
    "\n",
    "df2.sort_values(ascending=False).head(10)"
   ]
  },
  {
   "cell_type": "code",
   "execution_count": 73,
   "id": "a1ab74fe",
   "metadata": {},
   "outputs": [
    {
     "data": {
      "text/plain": [
       "Credit_History_Age\n",
       "Não informado              9.03\n",
       "15 Years and 11 Months    0.446\n",
       "19 Years and 4 Months     0.445\n",
       "19 Years and 5 Months     0.444\n",
       "17 Years and 11 Months    0.443\n",
       "19 Years and 3 Months     0.441\n",
       "17 Years and 9 Months     0.438\n",
       "15 Years and 10 Months    0.436\n",
       "17 Years and 10 Months    0.435\n",
       "15 Years and 9 Months     0.432\n",
       "Name: proportion, dtype: Float64"
      ]
     },
     "execution_count": 73,
     "metadata": {},
     "output_type": "execute_result"
    }
   ],
   "source": [
    "df2 = df['Credit_History_Age'].value_counts(normalize=True) * 100\n",
    "\n",
    "df2.sort_values(ascending=False).head(10)"
   ]
  },
  {
   "cell_type": "code",
   "execution_count": 74,
   "id": "dd4dc01e",
   "metadata": {},
   "outputs": [
    {
     "data": {
      "text/plain": [
       "Payment_of_Min_Amount\n",
       "Yes    52.326\n",
       "No     35.667\n",
       "NM     12.007\n",
       "Name: proportion, dtype: Float64"
      ]
     },
     "execution_count": 74,
     "metadata": {},
     "output_type": "execute_result"
    }
   ],
   "source": [
    "df2 = df['Payment_of_Min_Amount'].value_counts(normalize=True) * 100\n",
    "\n",
    "df2.sort_values(ascending=False).head(10)"
   ]
  },
  {
   "cell_type": "code",
   "execution_count": 75,
   "id": "90a51f0b",
   "metadata": {},
   "outputs": [
    {
     "data": {
      "text/plain": [
       "Total_EMI_per_month\n",
       "0.000000      10.613\n",
       "31.086195      0.008\n",
       "149.897199     0.008\n",
       "62.222285      0.008\n",
       "171.430198     0.008\n",
       "69.602920      0.008\n",
       "246.992319     0.008\n",
       "84.205949      0.008\n",
       "49.574949      0.008\n",
       "72.099176      0.008\n",
       "Name: proportion, dtype: float64"
      ]
     },
     "execution_count": 75,
     "metadata": {},
     "output_type": "execute_result"
    }
   ],
   "source": [
    "df2 = df['Total_EMI_per_month'].value_counts(normalize=True) * 100\n",
    "\n",
    "df2.sort_values(ascending=False).head(10)"
   ]
  },
  {
   "cell_type": "code",
   "execution_count": 76,
   "id": "25441eaf",
   "metadata": {},
   "outputs": [
    {
     "data": {
      "text/plain": [
       "Amount_invested_monthly\n",
       "10000.000000    4.506862\n",
       "0.000000        0.176924\n",
       "167.163865      0.001047\n",
       "80.415295       0.001047\n",
       "118.280222      0.001047\n",
       "81.699521       0.001047\n",
       "199.458074      0.001047\n",
       "41.420153       0.001047\n",
       "62.430172       0.001047\n",
       "178.344067      0.001047\n",
       "Name: proportion, dtype: float64"
      ]
     },
     "execution_count": 76,
     "metadata": {},
     "output_type": "execute_result"
    }
   ],
   "source": [
    "df2 = df['Amount_invested_monthly'].value_counts(normalize=True) * 100\n",
    "\n",
    "df2.sort_values(ascending=False).head(10)"
   ]
  },
  {
   "cell_type": "code",
   "execution_count": 77,
   "id": "6300f62b",
   "metadata": {},
   "outputs": [
    {
     "data": {
      "text/plain": [
       "Payment_Behaviour\n",
       "Low_spent_Small_value_payments      25.513\n",
       "High_spent_Medium_value_payments     17.54\n",
       "Low_spent_Medium_value_payments     13.861\n",
       "High_spent_Large_value_payments     13.721\n",
       "High_spent_Small_value_payments      11.34\n",
       "Low_spent_Large_value_payments      10.425\n",
       "!@9#%8                                 7.6\n",
       "Name: proportion, dtype: Float64"
      ]
     },
     "execution_count": 77,
     "metadata": {},
     "output_type": "execute_result"
    }
   ],
   "source": [
    "df2 = df['Payment_Behaviour'].value_counts(normalize=True) * 100\n",
    "\n",
    "df2.sort_values(ascending=False).head(10)"
   ]
  },
  {
   "cell_type": "code",
   "execution_count": 78,
   "id": "ca835e0d",
   "metadata": {},
   "outputs": [
    {
     "data": {
      "text/plain": [
       "Monthly_Balance\n",
       "-3.333333e+26    0.009109\n",
       " 3.286552e+02    0.001012\n",
       " 4.325593e+02    0.001012\n",
       " 4.706906e+02    0.001012\n",
       " 3.936737e+02    0.001012\n",
       " 3.124941e+02    0.001012\n",
       " 2.846292e+02    0.001012\n",
       " 3.312099e+02    0.001012\n",
       " 2.234513e+02    0.001012\n",
       " 3.187374e+02    0.001012\n",
       "Name: proportion, dtype: float64"
      ]
     },
     "execution_count": 78,
     "metadata": {},
     "output_type": "execute_result"
    }
   ],
   "source": [
    "df2 = df['Monthly_Balance'].value_counts(normalize=True) * 100\n",
    "\n",
    "df2.sort_values(ascending=False).head(10)"
   ]
  },
  {
   "cell_type": "code",
   "execution_count": 79,
   "id": "5406dee9",
   "metadata": {},
   "outputs": [
    {
     "data": {
      "text/plain": [
       "Credit_Score\n",
       "Standard    53.174\n",
       "Poor        28.998\n",
       "Good        17.828\n",
       "Name: proportion, dtype: float64"
      ]
     },
     "execution_count": 79,
     "metadata": {},
     "output_type": "execute_result"
    }
   ],
   "source": [
    "df2 = df['Credit_Score'].value_counts(normalize=True) * 100\n",
    "\n",
    "df2.sort_values(ascending=False).head(10)"
   ]
  },
  {
   "cell_type": "markdown",
   "id": "0bef21d6",
   "metadata": {},
   "source": [
    "Verificação da tipagem pós ajustes"
   ]
  },
  {
   "cell_type": "code",
   "execution_count": 80,
   "id": "c1efa761",
   "metadata": {},
   "outputs": [
    {
     "name": "stdout",
     "output_type": "stream",
     "text": [
      "<class 'pandas.core.frame.DataFrame'>\n",
      "RangeIndex: 100000 entries, 0 to 99999\n",
      "Data columns (total 28 columns):\n",
      " #   Column                    Non-Null Count   Dtype   \n",
      "---  ------                    --------------   -----   \n",
      " 0   ID                        100000 non-null  string  \n",
      " 1   Customer_ID               100000 non-null  string  \n",
      " 2   Month                     100000 non-null  string  \n",
      " 3   Name                      90015 non-null   string  \n",
      " 4   Age                       100000 non-null  int64   \n",
      " 5   SSN                       100000 non-null  string  \n",
      " 6   Occupation                100000 non-null  string  \n",
      " 7   Annual_Income             100000 non-null  float64 \n",
      " 8   Monthly_Inhand_Salary     84998 non-null   float64 \n",
      " 9   Num_Bank_Accounts         100000 non-null  int64   \n",
      " 10  Num_Credit_Card           100000 non-null  int64   \n",
      " 11  Interest_Rate             100000 non-null  int64   \n",
      " 12  Num_of_Loan               100000 non-null  int64   \n",
      " 13  Type_of_Loan              88592 non-null   string  \n",
      " 14  Delay_from_due_date       100000 non-null  int64   \n",
      " 15  Num_of_Delayed_Payment    100000 non-null  int64   \n",
      " 16  Changed_Credit_Limit      100000 non-null  float64 \n",
      " 17  Num_Credit_Inquiries      98035 non-null   float64 \n",
      " 18  Credit_Mix                100000 non-null  string  \n",
      " 19  Outstanding_Debt          100000 non-null  float64 \n",
      " 20  Credit_Utilization_Ratio  100000 non-null  float64 \n",
      " 21  Credit_History_Age        100000 non-null  string  \n",
      " 22  Payment_of_Min_Amount     100000 non-null  string  \n",
      " 23  Total_EMI_per_month       100000 non-null  float64 \n",
      " 24  Amount_invested_monthly   95521 non-null   float64 \n",
      " 25  Payment_Behaviour         100000 non-null  string  \n",
      " 26  Monthly_Balance           98800 non-null   float64 \n",
      " 27  Credit_Score              100000 non-null  category\n",
      "dtypes: category(1), float64(9), int64(7), string(11)\n",
      "memory usage: 20.7 MB\n"
     ]
    }
   ],
   "source": [
    "df.info()"
   ]
  },
  {
   "cell_type": "code",
   "execution_count": 81,
   "id": "595c0a53",
   "metadata": {},
   "outputs": [
    {
     "name": "stdout",
     "output_type": "stream",
     "text": [
      "<class 'pandas.core.frame.DataFrame'>\n",
      "RangeIndex: 100000 entries, 0 to 99999\n",
      "Data columns (total 8 columns):\n",
      " #   Column                    Non-Null Count   Dtype  \n",
      "---  ------                    --------------   -----  \n",
      " 0   Outstanding_Debt          100000 non-null  float64\n",
      " 1   Credit_Utilization_Ratio  100000 non-null  float64\n",
      " 2   Credit_History_Age        100000 non-null  string \n",
      " 3   Payment_of_Min_Amount     100000 non-null  string \n",
      " 4   Total_EMI_per_month       100000 non-null  float64\n",
      " 5   Amount_invested_monthly   95521 non-null   float64\n",
      " 6   Payment_Behaviour         100000 non-null  string \n",
      " 7   Monthly_Balance           98800 non-null   float64\n",
      "dtypes: float64(5), string(3)\n",
      "memory usage: 6.1 MB\n"
     ]
    }
   ],
   "source": [
    "df.loc[:, 'Outstanding_Debt':'Monthly_Balance'].info()"
   ]
  },
  {
   "cell_type": "code",
   "execution_count": 82,
   "id": "f32c6c35",
   "metadata": {},
   "outputs": [
    {
     "data": {
      "text/plain": [
       "count    100000.000000\n",
       "mean         32.285173\n",
       "std           5.116875\n",
       "min          20.000000\n",
       "25%          28.052567\n",
       "50%          32.305784\n",
       "75%          36.496663\n",
       "max          50.000000\n",
       "Name: Credit_Utilization_Ratio, dtype: float64"
      ]
     },
     "execution_count": 82,
     "metadata": {},
     "output_type": "execute_result"
    }
   ],
   "source": [
    "df['Credit_Utilization_Ratio'].describe()"
   ]
  },
  {
   "cell_type": "code",
   "execution_count": 83,
   "id": "c34af7b0",
   "metadata": {},
   "outputs": [
    {
     "data": {
      "text/plain": [
       "count    100000.000000\n",
       "mean       1403.118217\n",
       "std        8306.041270\n",
       "min           0.000000\n",
       "25%          30.306660\n",
       "50%          69.249473\n",
       "75%         161.224249\n",
       "max       82331.000000\n",
       "Name: Total_EMI_per_month, dtype: float64"
      ]
     },
     "execution_count": 83,
     "metadata": {},
     "output_type": "execute_result"
    }
   ],
   "source": [
    "df['Total_EMI_per_month'].describe()"
   ]
  },
  {
   "cell_type": "markdown",
   "id": "1015b062",
   "metadata": {},
   "source": [
    "Feature engineering e limpeza em base de range de números"
   ]
  },
  {
   "cell_type": "code",
   "execution_count": 84,
   "id": "40f7505b",
   "metadata": {},
   "outputs": [],
   "source": [
    "bins = [0 * 12, 2500 * 12, 4000 * 12, 6000 * 12, 10000 * 12, float('inf')]\n",
    "labels = ['low', 'lower_middle', 'middle', 'upper_middle', 'high']\n",
    "df['Annual_Income_Ajustado'] = pd.cut(df['Annual_Income'], bins=bins, labels=labels)\n",
    "\n",
    "bins = [-1, 10, 30, 50, 75, 100, float('inf')]\n",
    "labels = ['muito_baixo', 'baixo', 'moderado', 'alto', 'muito_alto', 'estourado']\n",
    "df['Credit_Utilization_Ratio_Ajustado'] = pd.cut(df['Credit_Utilization_Ratio'], bins=bins, labels=labels)\n",
    "\n",
    "bins = [0, 2500, 4000, 6000, 10000, float('inf')]\n",
    "labels = ['low', 'lower_middle', 'middle', 'upper_middle', 'high']\n",
    "df['Monthly_Inhand_Salary_Ajustado'] = pd.cut(df['Monthly_Inhand_Salary'], bins=bins, labels=labels)\n",
    "\n",
    "df = df.loc[(df['Num_Bank_Accounts'] > 0) & (df['Num_Bank_Accounts'] <= 10)]\n",
    "\n",
    "df = df.loc[(df['Age'] >= 0) & (df['Age'] <= 120)]\n",
    "bins = [0, 12, 19, 35, 55, 75, float('inf')]\n",
    "labels = ['crianca', 'adolescente', 'jovem_adulto', 'adulto', 'meia_idade', 'idoso']\n",
    "df['Age_Ajustado'] = pd.cut(df['Age'], bins=bins, labels=labels)\n",
    "\n",
    "df = df.loc[(df['Num_Credit_Card'] > 0) & (df['Num_Credit_Card'] <= 10)]\n",
    "\n",
    "df = df.loc[df['Interest_Rate'] <= 30]\n",
    "\n",
    "df = df.loc[(df['Num_of_Loan'] >= 0) & (df['Num_of_Loan'] <= 10)]\n",
    "\n",
    "df = df.loc[df['Delay_from_due_date'] >= 0]\n",
    "\n",
    "df = df.loc[(df['Num_of_Delayed_Payment'] >= 0) & (df['Num_of_Delayed_Payment'] <= 25)]\n",
    "\n",
    "df = df.loc[df['Num_Credit_Inquiries'] <= 12]\n",
    "\n",
    "df['years'] = df['Credit_History_Age'].str.extract(r'(\\d+)\\s*Years')\n",
    "df['months'] = df['Credit_History_Age'].str.extract(r'(\\d+)\\s*Months')\n",
    "df['years'] = pd.to_numeric(df['years'], errors='coerce').fillna(0).astype(int)\n",
    "df['months'] = pd.to_numeric(df['months'], errors='coerce').fillna(0).astype(int)\n",
    "df['Credit_History_Age_Ajustado'] = df['years'] * 12 + df['months']\n",
    "\n",
    "bins = [0, 500, 1500, 3000, 5000, float('inf')]\n",
    "labels = ['muito_baixo', 'baixo', 'medio', 'alto', 'muito_alto']\n",
    "df['Total_EMI_per_month_Ajustado'] = pd.cut(df['Total_EMI_per_month'], bins=bins, labels=labels)\n",
    "\n",
    "bins = [0, 1000, 10000, 50000, 250000, float('inf')]\n",
    "labels = ['very_low', 'low', 'medium', 'high', 'very_high']\n",
    "df['Amount_invested_monthly_Ajustado'] = pd.cut(df['Amount_invested_monthly'], bins=bins, labels=labels)\n",
    "\n",
    "bins = [-float('inf'), 0, 1000, 5000, 20000, float('inf')]\n",
    "labels = ['negative', 'low', 'moderate', 'high', 'very_high']\n",
    "df['Monthly_Balance_Ajustado'] = pd.cut(df['Monthly_Balance'], bins=bins, labels=labels)"
   ]
  },
  {
   "cell_type": "markdown",
   "id": "336dac07",
   "metadata": {},
   "source": [
    "Remover colunas que não entram em modelos"
   ]
  },
  {
   "cell_type": "code",
   "execution_count": 85,
   "id": "82072cfe",
   "metadata": {},
   "outputs": [],
   "source": [
    "df = df.drop(['ID', 'Customer_ID', 'Month', 'Name', 'SSN', 'Type_of_Loan', 'Credit_History_Age', \n",
    "              'Monthly_Balance', 'Amount_invested_monthly', 'Age', 'Monthly_Inhand_Salary', 'Annual_Income', 'months', 'years', 'Credit_Utilization_Ratio', 'Total_EMI_per_month'], axis=1)"
   ]
  },
  {
   "cell_type": "markdown",
   "id": "b686aa46",
   "metadata": {},
   "source": [
    "Colunas restantes"
   ]
  },
  {
   "cell_type": "code",
   "execution_count": 86,
   "id": "ca15cc04",
   "metadata": {},
   "outputs": [
    {
     "name": "stdout",
     "output_type": "stream",
     "text": [
      "<class 'pandas.core.frame.DataFrame'>\n",
      "Index: 70864 entries, 0 to 99999\n",
      "Data columns (total 22 columns):\n",
      " #   Column                             Non-Null Count  Dtype   \n",
      "---  ------                             --------------  -----   \n",
      " 0   Occupation                         70864 non-null  string  \n",
      " 1   Num_Bank_Accounts                  70864 non-null  int64   \n",
      " 2   Num_Credit_Card                    70864 non-null  int64   \n",
      " 3   Interest_Rate                      70864 non-null  int64   \n",
      " 4   Num_of_Loan                        70864 non-null  int64   \n",
      " 5   Delay_from_due_date                70864 non-null  int64   \n",
      " 6   Num_of_Delayed_Payment             70864 non-null  int64   \n",
      " 7   Changed_Credit_Limit               70864 non-null  float64 \n",
      " 8   Num_Credit_Inquiries               70864 non-null  float64 \n",
      " 9   Credit_Mix                         70864 non-null  string  \n",
      " 10  Outstanding_Debt                   70864 non-null  float64 \n",
      " 11  Payment_of_Min_Amount              70864 non-null  string  \n",
      " 12  Payment_Behaviour                  70864 non-null  string  \n",
      " 13  Credit_Score                       70864 non-null  category\n",
      " 14  Annual_Income_Ajustado             70864 non-null  category\n",
      " 15  Credit_Utilization_Ratio_Ajustado  70864 non-null  category\n",
      " 16  Monthly_Inhand_Salary_Ajustado     60152 non-null  category\n",
      " 17  Age_Ajustado                       70864 non-null  category\n",
      " 18  Credit_History_Age_Ajustado        70864 non-null  int64   \n",
      " 19  Total_EMI_per_month_Ajustado       62838 non-null  category\n",
      " 20  Amount_invested_monthly_Ajustado   67604 non-null  category\n",
      " 21  Monthly_Balance_Ajustado           70014 non-null  category\n",
      "dtypes: category(8), float64(3), int64(7), string(4)\n",
      "memory usage: 8.7 MB\n"
     ]
    }
   ],
   "source": [
    "df.info()"
   ]
  },
  {
   "cell_type": "markdown",
   "id": "ee078416",
   "metadata": {},
   "source": [
    "Limpeza de colunas categóricas e mudança de tipo"
   ]
  },
  {
   "cell_type": "code",
   "execution_count": 87,
   "id": "9e1f772a",
   "metadata": {},
   "outputs": [],
   "source": [
    "indices_para_remover = df[df[\"Occupation\"].str.contains(\"_\", na=False)].index\n",
    "df.drop(index=indices_para_remover, inplace=True)\n",
    "\n",
    "indices_para_remover = df[df[\"Credit_Mix\"].str.contains(\"Não informado\", na=False)].index\n",
    "df.drop(index=indices_para_remover, inplace=True) \n",
    "\n",
    "indices_para_remover = df[df[\"Payment_of_Min_Amount\"].str.contains(\"NM\", na=False)].index\n",
    "df.drop(index=indices_para_remover, inplace=True)\n",
    "\n",
    "indices_para_remover = df[df[\"Payment_Behaviour\"].str.contains(\"!@9#%8\", na=False)].index\n",
    "df.drop(index=indices_para_remover, inplace=True)\n",
    "\n",
    "df['Occupation'] = df['Occupation'].astype('category')\n",
    "df['Credit_Mix'] = df['Credit_Mix'].astype('category')\n",
    "df['Payment_of_Min_Amount'] = df['Payment_of_Min_Amount'].astype('category')\n",
    "df['Payment_Behaviour'] = df['Payment_Behaviour'].astype('category')\n",
    "\n",
    "df['Annual_Income_Ajustado'] = df['Annual_Income_Ajustado'].astype('category')\n",
    "df['Age_Ajustado'] = df['Age_Ajustado'].astype('category')\n",
    "df['Monthly_Inhand_Salary_Ajustado'] = df['Monthly_Inhand_Salary_Ajustado'].astype('category')\n",
    "df['Credit_History_Age_Ajustado'] = df['Credit_History_Age_Ajustado'].astype('category')\n",
    "df['Amount_invested_monthly_Ajustado'] = df['Amount_invested_monthly_Ajustado'].astype('category')\n",
    "df['Monthly_Balance_Ajustado'] = df['Monthly_Balance_Ajustado'].astype('category')\n",
    "df['Credit_Utilization_Ratio_Ajustado'] = df['Credit_Utilization_Ratio_Ajustado'].astype('category')\n",
    "df['Total_EMI_per_month_Ajustado'] = df['Total_EMI_per_month_Ajustado'].astype('category')"
   ]
  },
  {
   "cell_type": "markdown",
   "id": "105cbecc",
   "metadata": {},
   "source": [
    "Colunas com tipagem ajustada"
   ]
  },
  {
   "cell_type": "code",
   "execution_count": 88,
   "id": "00295731",
   "metadata": {},
   "outputs": [
    {
     "name": "stdout",
     "output_type": "stream",
     "text": [
      "<class 'pandas.core.frame.DataFrame'>\n",
      "Index: 39855 entries, 3 to 99998\n",
      "Data columns (total 22 columns):\n",
      " #   Column                             Non-Null Count  Dtype   \n",
      "---  ------                             --------------  -----   \n",
      " 0   Occupation                         39855 non-null  category\n",
      " 1   Num_Bank_Accounts                  39855 non-null  int64   \n",
      " 2   Num_Credit_Card                    39855 non-null  int64   \n",
      " 3   Interest_Rate                      39855 non-null  int64   \n",
      " 4   Num_of_Loan                        39855 non-null  int64   \n",
      " 5   Delay_from_due_date                39855 non-null  int64   \n",
      " 6   Num_of_Delayed_Payment             39855 non-null  int64   \n",
      " 7   Changed_Credit_Limit               39855 non-null  float64 \n",
      " 8   Num_Credit_Inquiries               39855 non-null  float64 \n",
      " 9   Credit_Mix                         39855 non-null  category\n",
      " 10  Outstanding_Debt                   39855 non-null  float64 \n",
      " 11  Payment_of_Min_Amount              39855 non-null  category\n",
      " 12  Payment_Behaviour                  39855 non-null  category\n",
      " 13  Credit_Score                       39855 non-null  category\n",
      " 14  Annual_Income_Ajustado             39855 non-null  category\n",
      " 15  Credit_Utilization_Ratio_Ajustado  39855 non-null  category\n",
      " 16  Monthly_Inhand_Salary_Ajustado     33868 non-null  category\n",
      " 17  Age_Ajustado                       39855 non-null  category\n",
      " 18  Credit_History_Age_Ajustado        39855 non-null  category\n",
      " 19  Total_EMI_per_month_Ajustado       35478 non-null  category\n",
      " 20  Amount_invested_monthly_Ajustado   38008 non-null  category\n",
      " 21  Monthly_Balance_Ajustado           39369 non-null  category\n",
      "dtypes: category(13), float64(3), int64(6)\n",
      "memory usage: 3.6 MB\n"
     ]
    }
   ],
   "source": [
    "df.info()"
   ]
  },
  {
   "cell_type": "markdown",
   "id": "e1af4197",
   "metadata": {},
   "source": [
    "Quantidade por target pós limpeza"
   ]
  },
  {
   "cell_type": "code",
   "execution_count": 89,
   "id": "e8e5caaa",
   "metadata": {},
   "outputs": [
    {
     "data": {
      "text/plain": [
       "Credit_Score\n",
       "Standard    22436\n",
       "Poor        10370\n",
       "Good         7049\n",
       "Name: count, dtype: int64"
      ]
     },
     "execution_count": 89,
     "metadata": {},
     "output_type": "execute_result"
    }
   ],
   "source": [
    "df['Credit_Score'].value_counts()"
   ]
  },
  {
   "cell_type": "markdown",
   "id": "c7ec501f",
   "metadata": {},
   "source": [
    "Remoção de linhas com valores nulos"
   ]
  },
  {
   "cell_type": "code",
   "execution_count": 90,
   "id": "026967aa",
   "metadata": {},
   "outputs": [
    {
     "data": {
      "text/html": [
       "<div>\n",
       "<style scoped>\n",
       "    .dataframe tbody tr th:only-of-type {\n",
       "        vertical-align: middle;\n",
       "    }\n",
       "\n",
       "    .dataframe tbody tr th {\n",
       "        vertical-align: top;\n",
       "    }\n",
       "\n",
       "    .dataframe thead th {\n",
       "        text-align: right;\n",
       "    }\n",
       "</style>\n",
       "<table border=\"1\" class=\"dataframe\">\n",
       "  <thead>\n",
       "    <tr style=\"text-align: right;\">\n",
       "      <th></th>\n",
       "      <th>Occupation</th>\n",
       "      <th>Num_Bank_Accounts</th>\n",
       "      <th>Num_Credit_Card</th>\n",
       "      <th>Interest_Rate</th>\n",
       "      <th>Num_of_Loan</th>\n",
       "      <th>Delay_from_due_date</th>\n",
       "      <th>Num_of_Delayed_Payment</th>\n",
       "      <th>Changed_Credit_Limit</th>\n",
       "      <th>Num_Credit_Inquiries</th>\n",
       "      <th>Credit_Mix</th>\n",
       "      <th>...</th>\n",
       "      <th>Payment_Behaviour</th>\n",
       "      <th>Credit_Score</th>\n",
       "      <th>Annual_Income_Ajustado</th>\n",
       "      <th>Credit_Utilization_Ratio_Ajustado</th>\n",
       "      <th>Monthly_Inhand_Salary_Ajustado</th>\n",
       "      <th>Age_Ajustado</th>\n",
       "      <th>Credit_History_Age_Ajustado</th>\n",
       "      <th>Total_EMI_per_month_Ajustado</th>\n",
       "      <th>Amount_invested_monthly_Ajustado</th>\n",
       "      <th>Monthly_Balance_Ajustado</th>\n",
       "    </tr>\n",
       "  </thead>\n",
       "  <tbody>\n",
       "    <tr>\n",
       "      <th>4</th>\n",
       "      <td>Scientist</td>\n",
       "      <td>3</td>\n",
       "      <td>4</td>\n",
       "      <td>3</td>\n",
       "      <td>4</td>\n",
       "      <td>6</td>\n",
       "      <td>0</td>\n",
       "      <td>11.27</td>\n",
       "      <td>4.0</td>\n",
       "      <td>Good</td>\n",
       "      <td>...</td>\n",
       "      <td>High_spent_Medium_value_payments</td>\n",
       "      <td>Good</td>\n",
       "      <td>low</td>\n",
       "      <td>baixo</td>\n",
       "      <td>low</td>\n",
       "      <td>jovem_adulto</td>\n",
       "      <td>269</td>\n",
       "      <td>muito_baixo</td>\n",
       "      <td>very_low</td>\n",
       "      <td>low</td>\n",
       "    </tr>\n",
       "    <tr>\n",
       "      <th>6</th>\n",
       "      <td>Scientist</td>\n",
       "      <td>3</td>\n",
       "      <td>4</td>\n",
       "      <td>3</td>\n",
       "      <td>4</td>\n",
       "      <td>3</td>\n",
       "      <td>8</td>\n",
       "      <td>11.27</td>\n",
       "      <td>4.0</td>\n",
       "      <td>Good</td>\n",
       "      <td>...</td>\n",
       "      <td>Low_spent_Small_value_payments</td>\n",
       "      <td>Good</td>\n",
       "      <td>low</td>\n",
       "      <td>baixo</td>\n",
       "      <td>low</td>\n",
       "      <td>jovem_adulto</td>\n",
       "      <td>271</td>\n",
       "      <td>muito_baixo</td>\n",
       "      <td>very_low</td>\n",
       "      <td>low</td>\n",
       "    </tr>\n",
       "    <tr>\n",
       "      <th>7</th>\n",
       "      <td>Scientist</td>\n",
       "      <td>3</td>\n",
       "      <td>4</td>\n",
       "      <td>3</td>\n",
       "      <td>4</td>\n",
       "      <td>3</td>\n",
       "      <td>6</td>\n",
       "      <td>11.27</td>\n",
       "      <td>4.0</td>\n",
       "      <td>Good</td>\n",
       "      <td>...</td>\n",
       "      <td>High_spent_Medium_value_payments</td>\n",
       "      <td>Standard</td>\n",
       "      <td>low</td>\n",
       "      <td>baixo</td>\n",
       "      <td>low</td>\n",
       "      <td>jovem_adulto</td>\n",
       "      <td>0</td>\n",
       "      <td>muito_baixo</td>\n",
       "      <td>very_low</td>\n",
       "      <td>low</td>\n",
       "    </tr>\n",
       "    <tr>\n",
       "      <th>9</th>\n",
       "      <td>Teacher</td>\n",
       "      <td>2</td>\n",
       "      <td>4</td>\n",
       "      <td>6</td>\n",
       "      <td>1</td>\n",
       "      <td>7</td>\n",
       "      <td>1</td>\n",
       "      <td>7.42</td>\n",
       "      <td>2.0</td>\n",
       "      <td>Good</td>\n",
       "      <td>...</td>\n",
       "      <td>High_spent_Large_value_payments</td>\n",
       "      <td>Good</td>\n",
       "      <td>lower_middle</td>\n",
       "      <td>moderado</td>\n",
       "      <td>lower_middle</td>\n",
       "      <td>jovem_adulto</td>\n",
       "      <td>320</td>\n",
       "      <td>muito_baixo</td>\n",
       "      <td>very_low</td>\n",
       "      <td>low</td>\n",
       "    </tr>\n",
       "    <tr>\n",
       "      <th>12</th>\n",
       "      <td>Teacher</td>\n",
       "      <td>2</td>\n",
       "      <td>4</td>\n",
       "      <td>6</td>\n",
       "      <td>1</td>\n",
       "      <td>3</td>\n",
       "      <td>1</td>\n",
       "      <td>6.42</td>\n",
       "      <td>2.0</td>\n",
       "      <td>Good</td>\n",
       "      <td>...</td>\n",
       "      <td>Low_spent_Small_value_payments</td>\n",
       "      <td>Good</td>\n",
       "      <td>lower_middle</td>\n",
       "      <td>moderado</td>\n",
       "      <td>lower_middle</td>\n",
       "      <td>jovem_adulto</td>\n",
       "      <td>323</td>\n",
       "      <td>muito_baixo</td>\n",
       "      <td>very_low</td>\n",
       "      <td>low</td>\n",
       "    </tr>\n",
       "    <tr>\n",
       "      <th>...</th>\n",
       "      <td>...</td>\n",
       "      <td>...</td>\n",
       "      <td>...</td>\n",
       "      <td>...</td>\n",
       "      <td>...</td>\n",
       "      <td>...</td>\n",
       "      <td>...</td>\n",
       "      <td>...</td>\n",
       "      <td>...</td>\n",
       "      <td>...</td>\n",
       "      <td>...</td>\n",
       "      <td>...</td>\n",
       "      <td>...</td>\n",
       "      <td>...</td>\n",
       "      <td>...</td>\n",
       "      <td>...</td>\n",
       "      <td>...</td>\n",
       "      <td>...</td>\n",
       "      <td>...</td>\n",
       "      <td>...</td>\n",
       "      <td>...</td>\n",
       "    </tr>\n",
       "    <tr>\n",
       "      <th>99985</th>\n",
       "      <td>Architect</td>\n",
       "      <td>10</td>\n",
       "      <td>8</td>\n",
       "      <td>29</td>\n",
       "      <td>5</td>\n",
       "      <td>33</td>\n",
       "      <td>25</td>\n",
       "      <td>23.31</td>\n",
       "      <td>9.0</td>\n",
       "      <td>Bad</td>\n",
       "      <td>...</td>\n",
       "      <td>Low_spent_Small_value_payments</td>\n",
       "      <td>Poor</td>\n",
       "      <td>low</td>\n",
       "      <td>moderado</td>\n",
       "      <td>low</td>\n",
       "      <td>jovem_adulto</td>\n",
       "      <td>69</td>\n",
       "      <td>muito_alto</td>\n",
       "      <td>very_low</td>\n",
       "      <td>low</td>\n",
       "    </tr>\n",
       "    <tr>\n",
       "      <th>99986</th>\n",
       "      <td>Architect</td>\n",
       "      <td>10</td>\n",
       "      <td>8</td>\n",
       "      <td>29</td>\n",
       "      <td>5</td>\n",
       "      <td>33</td>\n",
       "      <td>25</td>\n",
       "      <td>18.31</td>\n",
       "      <td>9.0</td>\n",
       "      <td>Bad</td>\n",
       "      <td>...</td>\n",
       "      <td>Low_spent_Small_value_payments</td>\n",
       "      <td>Poor</td>\n",
       "      <td>low</td>\n",
       "      <td>baixo</td>\n",
       "      <td>low</td>\n",
       "      <td>jovem_adulto</td>\n",
       "      <td>70</td>\n",
       "      <td>muito_baixo</td>\n",
       "      <td>very_low</td>\n",
       "      <td>low</td>\n",
       "    </tr>\n",
       "    <tr>\n",
       "      <th>99991</th>\n",
       "      <td>Architect</td>\n",
       "      <td>10</td>\n",
       "      <td>8</td>\n",
       "      <td>29</td>\n",
       "      <td>5</td>\n",
       "      <td>33</td>\n",
       "      <td>25</td>\n",
       "      <td>18.31</td>\n",
       "      <td>9.0</td>\n",
       "      <td>Bad</td>\n",
       "      <td>...</td>\n",
       "      <td>High_spent_Large_value_payments</td>\n",
       "      <td>Standard</td>\n",
       "      <td>low</td>\n",
       "      <td>moderado</td>\n",
       "      <td>low</td>\n",
       "      <td>jovem_adulto</td>\n",
       "      <td>75</td>\n",
       "      <td>muito_baixo</td>\n",
       "      <td>very_low</td>\n",
       "      <td>low</td>\n",
       "    </tr>\n",
       "    <tr>\n",
       "      <th>99993</th>\n",
       "      <td>Mechanic</td>\n",
       "      <td>4</td>\n",
       "      <td>6</td>\n",
       "      <td>7</td>\n",
       "      <td>2</td>\n",
       "      <td>23</td>\n",
       "      <td>0</td>\n",
       "      <td>11.50</td>\n",
       "      <td>3.0</td>\n",
       "      <td>Good</td>\n",
       "      <td>...</td>\n",
       "      <td>Low_spent_Medium_value_payments</td>\n",
       "      <td>Standard</td>\n",
       "      <td>lower_middle</td>\n",
       "      <td>baixo</td>\n",
       "      <td>lower_middle</td>\n",
       "      <td>jovem_adulto</td>\n",
       "      <td>376</td>\n",
       "      <td>muito_alto</td>\n",
       "      <td>very_low</td>\n",
       "      <td>low</td>\n",
       "    </tr>\n",
       "    <tr>\n",
       "      <th>99998</th>\n",
       "      <td>Mechanic</td>\n",
       "      <td>4</td>\n",
       "      <td>6</td>\n",
       "      <td>7</td>\n",
       "      <td>2</td>\n",
       "      <td>20</td>\n",
       "      <td>0</td>\n",
       "      <td>11.50</td>\n",
       "      <td>3.0</td>\n",
       "      <td>Good</td>\n",
       "      <td>...</td>\n",
       "      <td>Low_spent_Large_value_payments</td>\n",
       "      <td>Standard</td>\n",
       "      <td>lower_middle</td>\n",
       "      <td>moderado</td>\n",
       "      <td>lower_middle</td>\n",
       "      <td>jovem_adulto</td>\n",
       "      <td>381</td>\n",
       "      <td>muito_baixo</td>\n",
       "      <td>very_low</td>\n",
       "      <td>low</td>\n",
       "    </tr>\n",
       "  </tbody>\n",
       "</table>\n",
       "<p>28365 rows × 22 columns</p>\n",
       "</div>"
      ],
      "text/plain": [
       "      Occupation  Num_Bank_Accounts  Num_Credit_Card  Interest_Rate  \\\n",
       "4      Scientist                  3                4              3   \n",
       "6      Scientist                  3                4              3   \n",
       "7      Scientist                  3                4              3   \n",
       "9        Teacher                  2                4              6   \n",
       "12       Teacher                  2                4              6   \n",
       "...          ...                ...              ...            ...   \n",
       "99985  Architect                 10                8             29   \n",
       "99986  Architect                 10                8             29   \n",
       "99991  Architect                 10                8             29   \n",
       "99993   Mechanic                  4                6              7   \n",
       "99998   Mechanic                  4                6              7   \n",
       "\n",
       "       Num_of_Loan  Delay_from_due_date  Num_of_Delayed_Payment  \\\n",
       "4                4                    6                       0   \n",
       "6                4                    3                       8   \n",
       "7                4                    3                       6   \n",
       "9                1                    7                       1   \n",
       "12               1                    3                       1   \n",
       "...            ...                  ...                     ...   \n",
       "99985            5                   33                      25   \n",
       "99986            5                   33                      25   \n",
       "99991            5                   33                      25   \n",
       "99993            2                   23                       0   \n",
       "99998            2                   20                       0   \n",
       "\n",
       "       Changed_Credit_Limit  Num_Credit_Inquiries Credit_Mix  ...  \\\n",
       "4                     11.27                   4.0       Good  ...   \n",
       "6                     11.27                   4.0       Good  ...   \n",
       "7                     11.27                   4.0       Good  ...   \n",
       "9                      7.42                   2.0       Good  ...   \n",
       "12                     6.42                   2.0       Good  ...   \n",
       "...                     ...                   ...        ...  ...   \n",
       "99985                 23.31                   9.0        Bad  ...   \n",
       "99986                 18.31                   9.0        Bad  ...   \n",
       "99991                 18.31                   9.0        Bad  ...   \n",
       "99993                 11.50                   3.0       Good  ...   \n",
       "99998                 11.50                   3.0       Good  ...   \n",
       "\n",
       "                      Payment_Behaviour Credit_Score Annual_Income_Ajustado  \\\n",
       "4      High_spent_Medium_value_payments         Good                    low   \n",
       "6        Low_spent_Small_value_payments         Good                    low   \n",
       "7      High_spent_Medium_value_payments     Standard                    low   \n",
       "9       High_spent_Large_value_payments         Good           lower_middle   \n",
       "12       Low_spent_Small_value_payments         Good           lower_middle   \n",
       "...                                 ...          ...                    ...   \n",
       "99985    Low_spent_Small_value_payments         Poor                    low   \n",
       "99986    Low_spent_Small_value_payments         Poor                    low   \n",
       "99991   High_spent_Large_value_payments     Standard                    low   \n",
       "99993   Low_spent_Medium_value_payments     Standard           lower_middle   \n",
       "99998    Low_spent_Large_value_payments     Standard           lower_middle   \n",
       "\n",
       "      Credit_Utilization_Ratio_Ajustado Monthly_Inhand_Salary_Ajustado  \\\n",
       "4                                 baixo                            low   \n",
       "6                                 baixo                            low   \n",
       "7                                 baixo                            low   \n",
       "9                              moderado                   lower_middle   \n",
       "12                             moderado                   lower_middle   \n",
       "...                                 ...                            ...   \n",
       "99985                          moderado                            low   \n",
       "99986                             baixo                            low   \n",
       "99991                          moderado                            low   \n",
       "99993                             baixo                   lower_middle   \n",
       "99998                          moderado                   lower_middle   \n",
       "\n",
       "       Age_Ajustado Credit_History_Age_Ajustado Total_EMI_per_month_Ajustado  \\\n",
       "4      jovem_adulto                         269                  muito_baixo   \n",
       "6      jovem_adulto                         271                  muito_baixo   \n",
       "7      jovem_adulto                           0                  muito_baixo   \n",
       "9      jovem_adulto                         320                  muito_baixo   \n",
       "12     jovem_adulto                         323                  muito_baixo   \n",
       "...             ...                         ...                          ...   \n",
       "99985  jovem_adulto                          69                   muito_alto   \n",
       "99986  jovem_adulto                          70                  muito_baixo   \n",
       "99991  jovem_adulto                          75                  muito_baixo   \n",
       "99993  jovem_adulto                         376                   muito_alto   \n",
       "99998  jovem_adulto                         381                  muito_baixo   \n",
       "\n",
       "      Amount_invested_monthly_Ajustado Monthly_Balance_Ajustado  \n",
       "4                             very_low                      low  \n",
       "6                             very_low                      low  \n",
       "7                             very_low                      low  \n",
       "9                             very_low                      low  \n",
       "12                            very_low                      low  \n",
       "...                                ...                      ...  \n",
       "99985                         very_low                      low  \n",
       "99986                         very_low                      low  \n",
       "99991                         very_low                      low  \n",
       "99993                         very_low                      low  \n",
       "99998                         very_low                      low  \n",
       "\n",
       "[28365 rows x 22 columns]"
      ]
     },
     "execution_count": 90,
     "metadata": {},
     "output_type": "execute_result"
    }
   ],
   "source": [
    "df.dropna()"
   ]
  },
  {
   "cell_type": "markdown",
   "id": "c93d2333",
   "metadata": {},
   "source": [
    "Resetar index"
   ]
  },
  {
   "cell_type": "code",
   "execution_count": 91,
   "id": "1dcf350e",
   "metadata": {},
   "outputs": [],
   "source": [
    "df = df.reset_index(drop=True)"
   ]
  },
  {
   "cell_type": "markdown",
   "id": "b058d95e",
   "metadata": {},
   "source": [
    "Modelo de Árvore de Decisão"
   ]
  },
  {
   "cell_type": "code",
   "execution_count": 92,
   "id": "7420b5ab",
   "metadata": {},
   "outputs": [
    {
     "data": {
      "image/png": "[encoded data removed]",
      "text/plain": [
       "<Figure size 640x480 with 2 Axes>"
      ]
     },
     "metadata": {},
     "output_type": "display_data"
    },
    {
     "name": "stdout",
     "output_type": "stream",
     "text": [
      "              precision    recall  f1-score   support\n",
      "\n",
      "           0     0.6056    0.5892    0.5973      2142\n",
      "           1     0.6657    0.6632    0.6644      3135\n",
      "           2     0.7428    0.7506    0.7467      6680\n",
      "\n",
      "    accuracy                         0.6988     11957\n",
      "   macro avg     0.6714    0.6676    0.6695     11957\n",
      "weighted avg     0.6980    0.6988    0.6984     11957\n",
      "\n",
      "Accuracy: 0.70\n"
     ]
    }
   ],
   "source": [
    "from sklearn import metrics\n",
    "import matplotlib.pyplot as plt\n",
    "\n",
    "label_encoder = LabelEncoder()\n",
    "# aplicar label encoder na target\n",
    "df['Credit_Score'] = label_encoder.fit_transform(df['Credit_Score'])\n",
    "\n",
    "# todas as colunas menos o target\n",
    "x = df.drop(\"Credit_Score\", axis=1)\n",
    "\n",
    "# aplicar label encoder nas categóricas\n",
    "x['Occupation'] = label_encoder.fit_transform(x['Occupation'])\n",
    "x['Credit_Mix'] = label_encoder.fit_transform(x['Credit_Mix'])\n",
    "x['Payment_of_Min_Amount'] = label_encoder.fit_transform(x['Payment_of_Min_Amount'])\n",
    "x['Payment_Behaviour'] = label_encoder.fit_transform(x['Payment_Behaviour'])\n",
    "x['Age_Ajustado'] = label_encoder.fit_transform(x['Age_Ajustado'])\n",
    "x['Annual_Income_Ajustado'] = label_encoder.fit_transform(x['Annual_Income_Ajustado'])\n",
    "x['Monthly_Inhand_Salary_Ajustado'] = label_encoder.fit_transform(x['Monthly_Inhand_Salary_Ajustado'])\n",
    "x['Credit_History_Age_Ajustado'] = label_encoder.fit_transform(x['Credit_History_Age_Ajustado'])\n",
    "x['Amount_invested_monthly_Ajustado'] = label_encoder.fit_transform(x['Amount_invested_monthly_Ajustado'])\n",
    "x['Monthly_Balance_Ajustado'] = label_encoder.fit_transform(x['Monthly_Balance_Ajustado'])\n",
    "x['Credit_Utilization_Ratio_Ajustado'] = label_encoder.fit_transform(x['Credit_Utilization_Ratio_Ajustado'])\n",
    "x['Total_EMI_per_month_Ajustado'] = label_encoder.fit_transform(x['Total_EMI_per_month_Ajustado'])\n",
    "\n",
    "# apenas a target\n",
    "y = df[\"Credit_Score\"]\n",
    "\n",
    "# Dividir os dados em conjuntos de treinamento e teste\n",
    "x_train, x_test, y_train, y_test = train_test_split(x, y, test_size=0.3, random_state=42)\n",
    "\n",
    "# Criar e treinar o modelo de árvore de decisão\n",
    "classifier = tree.DecisionTreeClassifier()\n",
    "classifier.fit(x_train, y_train)\n",
    "y_pred = classifier.predict(x_test)\n",
    "\n",
    "cm = metrics.confusion_matrix(y_test, y_pred)\n",
    "\n",
    "disp = metrics.ConfusionMatrixDisplay(confusion_matrix=cm, display_labels=[0,1,2])\n",
    "disp.plot(cmap=\"Blues\")\n",
    "plt.show()\n",
    "\n",
    "# Avaliar o modelo\n",
    "accuracy = classifier.score(x_test, y_test)\n",
    "print(metrics.classification_report(y_test, y_pred, digits=4))\n",
    "print(f\"Accuracy: {accuracy:.2f}\")\n",
    "# tree.plot_tree(classifier)\n",
    "\n",
    "# # Para imprimir na página HTML\n",
    "# buffer = StringIO()\n",
    "# plt.savefig(buffer, format=\"svg\")\n",
    "# print(buffer.getvalue())"
   ]
  },
  {
   "cell_type": "code",
   "execution_count": 93,
   "id": "77c0cfd3",
   "metadata": {},
   "outputs": [
    {
     "data": {
      "text/plain": [
       "Credit_Score\n",
       "2    22436\n",
       "1    10370\n",
       "0     7049\n",
       "Name: count, dtype: int64"
      ]
     },
     "execution_count": 93,
     "metadata": {},
     "output_type": "execute_result"
    }
   ],
   "source": [
    "df['Credit_Score'].value_counts()"
   ]
  },
  {
   "cell_type": "code",
   "execution_count": 94,
   "id": "5216013c",
   "metadata": {},
   "outputs": [
    {
     "data": {
      "text/html": [
       "<div>\n",
       "<style scoped>\n",
       "    .dataframe tbody tr th:only-of-type {\n",
       "        vertical-align: middle;\n",
       "    }\n",
       "\n",
       "    .dataframe tbody tr th {\n",
       "        vertical-align: top;\n",
       "    }\n",
       "\n",
       "    .dataframe thead th {\n",
       "        text-align: right;\n",
       "    }\n",
       "</style>\n",
       "<table border=\"1\" class=\"dataframe\">\n",
       "  <thead>\n",
       "    <tr style=\"text-align: right;\">\n",
       "      <th></th>\n",
       "      <th>Occupation</th>\n",
       "      <th>Num_Bank_Accounts</th>\n",
       "      <th>Num_Credit_Card</th>\n",
       "      <th>Interest_Rate</th>\n",
       "      <th>Num_of_Loan</th>\n",
       "      <th>Delay_from_due_date</th>\n",
       "      <th>Num_of_Delayed_Payment</th>\n",
       "      <th>Changed_Credit_Limit</th>\n",
       "      <th>Num_Credit_Inquiries</th>\n",
       "      <th>Credit_Mix</th>\n",
       "      <th>...</th>\n",
       "      <th>Payment_Behaviour</th>\n",
       "      <th>Credit_Score</th>\n",
       "      <th>Annual_Income_Ajustado</th>\n",
       "      <th>Credit_Utilization_Ratio_Ajustado</th>\n",
       "      <th>Monthly_Inhand_Salary_Ajustado</th>\n",
       "      <th>Age_Ajustado</th>\n",
       "      <th>Credit_History_Age_Ajustado</th>\n",
       "      <th>Total_EMI_per_month_Ajustado</th>\n",
       "      <th>Amount_invested_monthly_Ajustado</th>\n",
       "      <th>Monthly_Balance_Ajustado</th>\n",
       "    </tr>\n",
       "  </thead>\n",
       "  <tbody>\n",
       "    <tr>\n",
       "      <th>0</th>\n",
       "      <td>Scientist</td>\n",
       "      <td>3</td>\n",
       "      <td>4</td>\n",
       "      <td>3</td>\n",
       "      <td>4</td>\n",
       "      <td>5</td>\n",
       "      <td>4</td>\n",
       "      <td>6.27</td>\n",
       "      <td>4.0</td>\n",
       "      <td>Good</td>\n",
       "      <td>...</td>\n",
       "      <td>Low_spent_Small_value_payments</td>\n",
       "      <td>0</td>\n",
       "      <td>low</td>\n",
       "      <td>moderado</td>\n",
       "      <td>NaN</td>\n",
       "      <td>jovem_adulto</td>\n",
       "      <td>268</td>\n",
       "      <td>muito_baixo</td>\n",
       "      <td>very_low</td>\n",
       "      <td>low</td>\n",
       "    </tr>\n",
       "    <tr>\n",
       "      <th>1</th>\n",
       "      <td>Scientist</td>\n",
       "      <td>3</td>\n",
       "      <td>4</td>\n",
       "      <td>3</td>\n",
       "      <td>4</td>\n",
       "      <td>6</td>\n",
       "      <td>0</td>\n",
       "      <td>11.27</td>\n",
       "      <td>4.0</td>\n",
       "      <td>Good</td>\n",
       "      <td>...</td>\n",
       "      <td>High_spent_Medium_value_payments</td>\n",
       "      <td>0</td>\n",
       "      <td>low</td>\n",
       "      <td>baixo</td>\n",
       "      <td>low</td>\n",
       "      <td>jovem_adulto</td>\n",
       "      <td>269</td>\n",
       "      <td>muito_baixo</td>\n",
       "      <td>very_low</td>\n",
       "      <td>low</td>\n",
       "    </tr>\n",
       "    <tr>\n",
       "      <th>2</th>\n",
       "      <td>Scientist</td>\n",
       "      <td>3</td>\n",
       "      <td>4</td>\n",
       "      <td>3</td>\n",
       "      <td>4</td>\n",
       "      <td>3</td>\n",
       "      <td>8</td>\n",
       "      <td>11.27</td>\n",
       "      <td>4.0</td>\n",
       "      <td>Good</td>\n",
       "      <td>...</td>\n",
       "      <td>Low_spent_Small_value_payments</td>\n",
       "      <td>0</td>\n",
       "      <td>low</td>\n",
       "      <td>baixo</td>\n",
       "      <td>low</td>\n",
       "      <td>jovem_adulto</td>\n",
       "      <td>271</td>\n",
       "      <td>muito_baixo</td>\n",
       "      <td>very_low</td>\n",
       "      <td>low</td>\n",
       "    </tr>\n",
       "    <tr>\n",
       "      <th>3</th>\n",
       "      <td>Scientist</td>\n",
       "      <td>3</td>\n",
       "      <td>4</td>\n",
       "      <td>3</td>\n",
       "      <td>4</td>\n",
       "      <td>3</td>\n",
       "      <td>6</td>\n",
       "      <td>11.27</td>\n",
       "      <td>4.0</td>\n",
       "      <td>Good</td>\n",
       "      <td>...</td>\n",
       "      <td>High_spent_Medium_value_payments</td>\n",
       "      <td>2</td>\n",
       "      <td>low</td>\n",
       "      <td>baixo</td>\n",
       "      <td>low</td>\n",
       "      <td>jovem_adulto</td>\n",
       "      <td>0</td>\n",
       "      <td>muito_baixo</td>\n",
       "      <td>very_low</td>\n",
       "      <td>low</td>\n",
       "    </tr>\n",
       "    <tr>\n",
       "      <th>4</th>\n",
       "      <td>Teacher</td>\n",
       "      <td>2</td>\n",
       "      <td>4</td>\n",
       "      <td>6</td>\n",
       "      <td>1</td>\n",
       "      <td>7</td>\n",
       "      <td>1</td>\n",
       "      <td>7.42</td>\n",
       "      <td>2.0</td>\n",
       "      <td>Good</td>\n",
       "      <td>...</td>\n",
       "      <td>High_spent_Large_value_payments</td>\n",
       "      <td>0</td>\n",
       "      <td>lower_middle</td>\n",
       "      <td>moderado</td>\n",
       "      <td>lower_middle</td>\n",
       "      <td>jovem_adulto</td>\n",
       "      <td>320</td>\n",
       "      <td>muito_baixo</td>\n",
       "      <td>very_low</td>\n",
       "      <td>low</td>\n",
       "    </tr>\n",
       "    <tr>\n",
       "      <th>...</th>\n",
       "      <td>...</td>\n",
       "      <td>...</td>\n",
       "      <td>...</td>\n",
       "      <td>...</td>\n",
       "      <td>...</td>\n",
       "      <td>...</td>\n",
       "      <td>...</td>\n",
       "      <td>...</td>\n",
       "      <td>...</td>\n",
       "      <td>...</td>\n",
       "      <td>...</td>\n",
       "      <td>...</td>\n",
       "      <td>...</td>\n",
       "      <td>...</td>\n",
       "      <td>...</td>\n",
       "      <td>...</td>\n",
       "      <td>...</td>\n",
       "      <td>...</td>\n",
       "      <td>...</td>\n",
       "      <td>...</td>\n",
       "      <td>...</td>\n",
       "    </tr>\n",
       "    <tr>\n",
       "      <th>39850</th>\n",
       "      <td>Architect</td>\n",
       "      <td>10</td>\n",
       "      <td>8</td>\n",
       "      <td>29</td>\n",
       "      <td>5</td>\n",
       "      <td>33</td>\n",
       "      <td>25</td>\n",
       "      <td>23.31</td>\n",
       "      <td>9.0</td>\n",
       "      <td>Bad</td>\n",
       "      <td>...</td>\n",
       "      <td>Low_spent_Small_value_payments</td>\n",
       "      <td>1</td>\n",
       "      <td>low</td>\n",
       "      <td>moderado</td>\n",
       "      <td>low</td>\n",
       "      <td>jovem_adulto</td>\n",
       "      <td>69</td>\n",
       "      <td>muito_alto</td>\n",
       "      <td>very_low</td>\n",
       "      <td>low</td>\n",
       "    </tr>\n",
       "    <tr>\n",
       "      <th>39851</th>\n",
       "      <td>Architect</td>\n",
       "      <td>10</td>\n",
       "      <td>8</td>\n",
       "      <td>29</td>\n",
       "      <td>5</td>\n",
       "      <td>33</td>\n",
       "      <td>25</td>\n",
       "      <td>18.31</td>\n",
       "      <td>9.0</td>\n",
       "      <td>Bad</td>\n",
       "      <td>...</td>\n",
       "      <td>Low_spent_Small_value_payments</td>\n",
       "      <td>1</td>\n",
       "      <td>low</td>\n",
       "      <td>baixo</td>\n",
       "      <td>low</td>\n",
       "      <td>jovem_adulto</td>\n",
       "      <td>70</td>\n",
       "      <td>muito_baixo</td>\n",
       "      <td>very_low</td>\n",
       "      <td>low</td>\n",
       "    </tr>\n",
       "    <tr>\n",
       "      <th>39852</th>\n",
       "      <td>Architect</td>\n",
       "      <td>10</td>\n",
       "      <td>8</td>\n",
       "      <td>29</td>\n",
       "      <td>5</td>\n",
       "      <td>33</td>\n",
       "      <td>25</td>\n",
       "      <td>18.31</td>\n",
       "      <td>9.0</td>\n",
       "      <td>Bad</td>\n",
       "      <td>...</td>\n",
       "      <td>High_spent_Large_value_payments</td>\n",
       "      <td>2</td>\n",
       "      <td>low</td>\n",
       "      <td>moderado</td>\n",
       "      <td>low</td>\n",
       "      <td>jovem_adulto</td>\n",
       "      <td>75</td>\n",
       "      <td>muito_baixo</td>\n",
       "      <td>very_low</td>\n",
       "      <td>low</td>\n",
       "    </tr>\n",
       "    <tr>\n",
       "      <th>39853</th>\n",
       "      <td>Mechanic</td>\n",
       "      <td>4</td>\n",
       "      <td>6</td>\n",
       "      <td>7</td>\n",
       "      <td>2</td>\n",
       "      <td>23</td>\n",
       "      <td>0</td>\n",
       "      <td>11.50</td>\n",
       "      <td>3.0</td>\n",
       "      <td>Good</td>\n",
       "      <td>...</td>\n",
       "      <td>Low_spent_Medium_value_payments</td>\n",
       "      <td>2</td>\n",
       "      <td>lower_middle</td>\n",
       "      <td>baixo</td>\n",
       "      <td>lower_middle</td>\n",
       "      <td>jovem_adulto</td>\n",
       "      <td>376</td>\n",
       "      <td>muito_alto</td>\n",
       "      <td>very_low</td>\n",
       "      <td>low</td>\n",
       "    </tr>\n",
       "    <tr>\n",
       "      <th>39854</th>\n",
       "      <td>Mechanic</td>\n",
       "      <td>4</td>\n",
       "      <td>6</td>\n",
       "      <td>7</td>\n",
       "      <td>2</td>\n",
       "      <td>20</td>\n",
       "      <td>0</td>\n",
       "      <td>11.50</td>\n",
       "      <td>3.0</td>\n",
       "      <td>Good</td>\n",
       "      <td>...</td>\n",
       "      <td>Low_spent_Large_value_payments</td>\n",
       "      <td>2</td>\n",
       "      <td>lower_middle</td>\n",
       "      <td>moderado</td>\n",
       "      <td>lower_middle</td>\n",
       "      <td>jovem_adulto</td>\n",
       "      <td>381</td>\n",
       "      <td>muito_baixo</td>\n",
       "      <td>very_low</td>\n",
       "      <td>low</td>\n",
       "    </tr>\n",
       "  </tbody>\n",
       "</table>\n",
       "<p>39855 rows × 22 columns</p>\n",
       "</div>"
      ],
      "text/plain": [
       "      Occupation  Num_Bank_Accounts  Num_Credit_Card  Interest_Rate  \\\n",
       "0      Scientist                  3                4              3   \n",
       "1      Scientist                  3                4              3   \n",
       "2      Scientist                  3                4              3   \n",
       "3      Scientist                  3                4              3   \n",
       "4        Teacher                  2                4              6   \n",
       "...          ...                ...              ...            ...   \n",
       "39850  Architect                 10                8             29   \n",
       "39851  Architect                 10                8             29   \n",
       "39852  Architect                 10                8             29   \n",
       "39853   Mechanic                  4                6              7   \n",
       "39854   Mechanic                  4                6              7   \n",
       "\n",
       "       Num_of_Loan  Delay_from_due_date  Num_of_Delayed_Payment  \\\n",
       "0                4                    5                       4   \n",
       "1                4                    6                       0   \n",
       "2                4                    3                       8   \n",
       "3                4                    3                       6   \n",
       "4                1                    7                       1   \n",
       "...            ...                  ...                     ...   \n",
       "39850            5                   33                      25   \n",
       "39851            5                   33                      25   \n",
       "39852            5                   33                      25   \n",
       "39853            2                   23                       0   \n",
       "39854            2                   20                       0   \n",
       "\n",
       "       Changed_Credit_Limit  Num_Credit_Inquiries Credit_Mix  ...  \\\n",
       "0                      6.27                   4.0       Good  ...   \n",
       "1                     11.27                   4.0       Good  ...   \n",
       "2                     11.27                   4.0       Good  ...   \n",
       "3                     11.27                   4.0       Good  ...   \n",
       "4                      7.42                   2.0       Good  ...   \n",
       "...                     ...                   ...        ...  ...   \n",
       "39850                 23.31                   9.0        Bad  ...   \n",
       "39851                 18.31                   9.0        Bad  ...   \n",
       "39852                 18.31                   9.0        Bad  ...   \n",
       "39853                 11.50                   3.0       Good  ...   \n",
       "39854                 11.50                   3.0       Good  ...   \n",
       "\n",
       "                      Payment_Behaviour Credit_Score Annual_Income_Ajustado  \\\n",
       "0        Low_spent_Small_value_payments            0                    low   \n",
       "1      High_spent_Medium_value_payments            0                    low   \n",
       "2        Low_spent_Small_value_payments            0                    low   \n",
       "3      High_spent_Medium_value_payments            2                    low   \n",
       "4       High_spent_Large_value_payments            0           lower_middle   \n",
       "...                                 ...          ...                    ...   \n",
       "39850    Low_spent_Small_value_payments            1                    low   \n",
       "39851    Low_spent_Small_value_payments            1                    low   \n",
       "39852   High_spent_Large_value_payments            2                    low   \n",
       "39853   Low_spent_Medium_value_payments            2           lower_middle   \n",
       "39854    Low_spent_Large_value_payments            2           lower_middle   \n",
       "\n",
       "       Credit_Utilization_Ratio_Ajustado Monthly_Inhand_Salary_Ajustado  \\\n",
       "0                               moderado                            NaN   \n",
       "1                                  baixo                            low   \n",
       "2                                  baixo                            low   \n",
       "3                                  baixo                            low   \n",
       "4                               moderado                   lower_middle   \n",
       "...                                  ...                            ...   \n",
       "39850                           moderado                            low   \n",
       "39851                              baixo                            low   \n",
       "39852                           moderado                            low   \n",
       "39853                              baixo                   lower_middle   \n",
       "39854                           moderado                   lower_middle   \n",
       "\n",
       "       Age_Ajustado Credit_History_Age_Ajustado Total_EMI_per_month_Ajustado  \\\n",
       "0      jovem_adulto                         268                  muito_baixo   \n",
       "1      jovem_adulto                         269                  muito_baixo   \n",
       "2      jovem_adulto                         271                  muito_baixo   \n",
       "3      jovem_adulto                           0                  muito_baixo   \n",
       "4      jovem_adulto                         320                  muito_baixo   \n",
       "...             ...                         ...                          ...   \n",
       "39850  jovem_adulto                          69                   muito_alto   \n",
       "39851  jovem_adulto                          70                  muito_baixo   \n",
       "39852  jovem_adulto                          75                  muito_baixo   \n",
       "39853  jovem_adulto                         376                   muito_alto   \n",
       "39854  jovem_adulto                         381                  muito_baixo   \n",
       "\n",
       "      Amount_invested_monthly_Ajustado Monthly_Balance_Ajustado  \n",
       "0                             very_low                      low  \n",
       "1                             very_low                      low  \n",
       "2                             very_low                      low  \n",
       "3                             very_low                      low  \n",
       "4                             very_low                      low  \n",
       "...                                ...                      ...  \n",
       "39850                         very_low                      low  \n",
       "39851                         very_low                      low  \n",
       "39852                         very_low                      low  \n",
       "39853                         very_low                      low  \n",
       "39854                         very_low                      low  \n",
       "\n",
       "[39855 rows x 22 columns]"
      ]
     },
     "execution_count": 94,
     "metadata": {},
     "output_type": "execute_result"
    }
   ],
   "source": [
    "df"
   ]
  }
 ],
 "metadata": {
  "kernelspec": {
   "display_name": "env",
   "language": "python",
   "name": "python3"
  },
  "language_info": {
   "codemirror_mode": {
    "name": "ipython",
    "version": 3
   },
   "file_extension": ".py",
   "mimetype": "text/x-python",
   "name": "python",
   "nbconvert_exporter": "python",
   "pygments_lexer": "ipython3",
   "version": "3.12.5"
  }
 },
 "nbformat": 4,
 "nbformat_minor": 5
}
